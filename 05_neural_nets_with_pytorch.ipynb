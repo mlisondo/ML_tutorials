{
 "cells": [
  {
   "cell_type": "markdown",
   "metadata": {
    "id": "lUOwclhJHNDP"
   },
   "source": [
    "# Hands On #5"
   ]
  },
  {
   "cell_type": "markdown",
   "metadata": {
    "id": "piBSRAqc96nN"
   },
   "source": [
    "**Chapter 10 – Introduction to Artificial Neural Networks with Pytorch**"
   ]
  },
  {
   "cell_type": "markdown",
   "metadata": {
    "id": "KFOtkrf3HNDS"
   },
   "source": [
    "File name convention: For group 42 and members Richard Stallman and Linus <br> Torvalds it would be: <br>\n",
    "\"05_neural_nets_with_pytorch_Stallman_Torvalds.pdf\"\n",
    "\n",
    "Submission via blackboard (UA).\n",
    "\n",
    "Feel free to answer free text questions in text cells using markdown and <br>\n",
    "possibly $\\LaTeX{}$ if you want to.\n",
    "\n",
    "**You don't have to understand every line of code here and it is not intended <br>\n",
    "for you to try to understand every line of code.<br>\n",
    "Big blocks of code are usually meant to just be clicked through.**"
   ]
  },
  {
   "cell_type": "markdown",
   "metadata": {
    "id": "C3TTeAuN96nU"
   },
   "source": [
    "# Setup"
   ]
  },
  {
   "cell_type": "code",
   "execution_count": 1,
   "metadata": {
    "id": "y3_Ulmke96nV"
   },
   "outputs": [],
   "source": [
    "import sys\n",
    "assert sys.version_info >= (3, 5)\n",
    "\n",
    "import sklearn\n",
    "assert sklearn.__version__ >= \"0.20\"\n",
    "\n",
    "import torch\n",
    "assert torch.__version__ >= \"2.0\"\n",
    "\n",
    "import numpy as np\n",
    "import os\n",
    "\n",
    "np.random.seed(42)\n",
    "\n",
    "%matplotlib inline\n",
    "import matplotlib as mpl\n",
    "import matplotlib.pyplot as plt\n",
    "mpl.rc('axes', labelsize=14)\n",
    "mpl.rc('xtick', labelsize=12)\n",
    "mpl.rc('ytick', labelsize=12)"
   ]
  },
  {
   "cell_type": "markdown",
   "metadata": {
    "id": "AKK8dS-C96nW"
   },
   "source": [
    "# Perceptrons\n",
    "\n",
    "**Perceptrons are a form of linear classifier**. The characteristic expression is <br>\n",
    "$\\Sigma_i w_i \\cdot x_i + b$. Where x are your inputs and w are your model\n",
    "weights<br>\n",
    "and b is a learnable bias term. The classification part comes in by setting <br>\n",
    "**any positive result of the above expression as the 1 or True label** and any <br> **negative result as the 0 or False label**. We then use stochastic gradient <br>\n",
    "descent to optimize the weights and bias."
   ]
  },
  {
   "cell_type": "code",
   "execution_count": 2,
   "metadata": {
    "id": "bc419YFJ96nX"
   },
   "outputs": [],
   "source": [
    "import numpy as np\n",
    "from sklearn.datasets import load_iris\n",
    "from sklearn.linear_model import Perceptron\n",
    "\n",
    "iris = load_iris()\n",
    "X = iris.data[:, (2, 3)]  # petal length, petal width\n",
    "y = (iris.target == 0).astype(int)"
   ]
  },
  {
   "cell_type": "markdown",
   "metadata": {
    "id": "Tut21LOA-I2r"
   },
   "source": [
    "### Task 1:\n",
    "Fit the iris dataset into a Perceptron layer and predict the class of a sample <br>\n",
    "with petal length of 2 and a petal width of 0.5.\n",
    "\n",
    "Use:\n",
    "`max_iter=1000`, `tol =1e-3` and `random_state= 42`.\n",
    "\n",
    "\n",
    "\n"
   ]
  },
  {
   "cell_type": "markdown",
   "metadata": {
    "id": "T2GbE_Wj96nW"
   },
   "source": [
    "**Note**: we set `max_iter` and `tol` explicitly to avoid warnings about the <br>\n",
    "fact that their default value will change in future versions of Scikit-Learn."
   ]
  },
  {
   "cell_type": "markdown",
   "metadata": {
    "id": "nsnymzLuLvm2"
   },
   "source": [
    "↓↓↓↓↓↓↓↓↓↓↓↓↓↓↓↓↓↓↓↓↓↓↓↓↓↓↓↓↓↓↓ your code goes below"
   ]
  },
  {
   "cell_type": "code",
   "execution_count": 3,
   "metadata": {
    "id": "-5wg3vIj3gxL"
   },
   "outputs": [
    {
     "data": {
      "text/html": [
       "<style>#sk-container-id-1 {\n",
       "  /* Definition of color scheme common for light and dark mode */\n",
       "  --sklearn-color-text: #000;\n",
       "  --sklearn-color-text-muted: #666;\n",
       "  --sklearn-color-line: gray;\n",
       "  /* Definition of color scheme for unfitted estimators */\n",
       "  --sklearn-color-unfitted-level-0: #fff5e6;\n",
       "  --sklearn-color-unfitted-level-1: #f6e4d2;\n",
       "  --sklearn-color-unfitted-level-2: #ffe0b3;\n",
       "  --sklearn-color-unfitted-level-3: chocolate;\n",
       "  /* Definition of color scheme for fitted estimators */\n",
       "  --sklearn-color-fitted-level-0: #f0f8ff;\n",
       "  --sklearn-color-fitted-level-1: #d4ebff;\n",
       "  --sklearn-color-fitted-level-2: #b3dbfd;\n",
       "  --sklearn-color-fitted-level-3: cornflowerblue;\n",
       "\n",
       "  /* Specific color for light theme */\n",
       "  --sklearn-color-text-on-default-background: var(--sg-text-color, var(--theme-code-foreground, var(--jp-content-font-color1, black)));\n",
       "  --sklearn-color-background: var(--sg-background-color, var(--theme-background, var(--jp-layout-color0, white)));\n",
       "  --sklearn-color-border-box: var(--sg-text-color, var(--theme-code-foreground, var(--jp-content-font-color1, black)));\n",
       "  --sklearn-color-icon: #696969;\n",
       "\n",
       "  @media (prefers-color-scheme: dark) {\n",
       "    /* Redefinition of color scheme for dark theme */\n",
       "    --sklearn-color-text-on-default-background: var(--sg-text-color, var(--theme-code-foreground, var(--jp-content-font-color1, white)));\n",
       "    --sklearn-color-background: var(--sg-background-color, var(--theme-background, var(--jp-layout-color0, #111)));\n",
       "    --sklearn-color-border-box: var(--sg-text-color, var(--theme-code-foreground, var(--jp-content-font-color1, white)));\n",
       "    --sklearn-color-icon: #878787;\n",
       "  }\n",
       "}\n",
       "\n",
       "#sk-container-id-1 {\n",
       "  color: var(--sklearn-color-text);\n",
       "}\n",
       "\n",
       "#sk-container-id-1 pre {\n",
       "  padding: 0;\n",
       "}\n",
       "\n",
       "#sk-container-id-1 input.sk-hidden--visually {\n",
       "  border: 0;\n",
       "  clip: rect(1px 1px 1px 1px);\n",
       "  clip: rect(1px, 1px, 1px, 1px);\n",
       "  height: 1px;\n",
       "  margin: -1px;\n",
       "  overflow: hidden;\n",
       "  padding: 0;\n",
       "  position: absolute;\n",
       "  width: 1px;\n",
       "}\n",
       "\n",
       "#sk-container-id-1 div.sk-dashed-wrapped {\n",
       "  border: 1px dashed var(--sklearn-color-line);\n",
       "  margin: 0 0.4em 0.5em 0.4em;\n",
       "  box-sizing: border-box;\n",
       "  padding-bottom: 0.4em;\n",
       "  background-color: var(--sklearn-color-background);\n",
       "}\n",
       "\n",
       "#sk-container-id-1 div.sk-container {\n",
       "  /* jupyter's `normalize.less` sets `[hidden] { display: none; }`\n",
       "     but bootstrap.min.css set `[hidden] { display: none !important; }`\n",
       "     so we also need the `!important` here to be able to override the\n",
       "     default hidden behavior on the sphinx rendered scikit-learn.org.\n",
       "     See: https://github.com/scikit-learn/scikit-learn/issues/21755 */\n",
       "  display: inline-block !important;\n",
       "  position: relative;\n",
       "}\n",
       "\n",
       "#sk-container-id-1 div.sk-text-repr-fallback {\n",
       "  display: none;\n",
       "}\n",
       "\n",
       "div.sk-parallel-item,\n",
       "div.sk-serial,\n",
       "div.sk-item {\n",
       "  /* draw centered vertical line to link estimators */\n",
       "  background-image: linear-gradient(var(--sklearn-color-text-on-default-background), var(--sklearn-color-text-on-default-background));\n",
       "  background-size: 2px 100%;\n",
       "  background-repeat: no-repeat;\n",
       "  background-position: center center;\n",
       "}\n",
       "\n",
       "/* Parallel-specific style estimator block */\n",
       "\n",
       "#sk-container-id-1 div.sk-parallel-item::after {\n",
       "  content: \"\";\n",
       "  width: 100%;\n",
       "  border-bottom: 2px solid var(--sklearn-color-text-on-default-background);\n",
       "  flex-grow: 1;\n",
       "}\n",
       "\n",
       "#sk-container-id-1 div.sk-parallel {\n",
       "  display: flex;\n",
       "  align-items: stretch;\n",
       "  justify-content: center;\n",
       "  background-color: var(--sklearn-color-background);\n",
       "  position: relative;\n",
       "}\n",
       "\n",
       "#sk-container-id-1 div.sk-parallel-item {\n",
       "  display: flex;\n",
       "  flex-direction: column;\n",
       "}\n",
       "\n",
       "#sk-container-id-1 div.sk-parallel-item:first-child::after {\n",
       "  align-self: flex-end;\n",
       "  width: 50%;\n",
       "}\n",
       "\n",
       "#sk-container-id-1 div.sk-parallel-item:last-child::after {\n",
       "  align-self: flex-start;\n",
       "  width: 50%;\n",
       "}\n",
       "\n",
       "#sk-container-id-1 div.sk-parallel-item:only-child::after {\n",
       "  width: 0;\n",
       "}\n",
       "\n",
       "/* Serial-specific style estimator block */\n",
       "\n",
       "#sk-container-id-1 div.sk-serial {\n",
       "  display: flex;\n",
       "  flex-direction: column;\n",
       "  align-items: center;\n",
       "  background-color: var(--sklearn-color-background);\n",
       "  padding-right: 1em;\n",
       "  padding-left: 1em;\n",
       "}\n",
       "\n",
       "\n",
       "/* Toggleable style: style used for estimator/Pipeline/ColumnTransformer box that is\n",
       "clickable and can be expanded/collapsed.\n",
       "- Pipeline and ColumnTransformer use this feature and define the default style\n",
       "- Estimators will overwrite some part of the style using the `sk-estimator` class\n",
       "*/\n",
       "\n",
       "/* Pipeline and ColumnTransformer style (default) */\n",
       "\n",
       "#sk-container-id-1 div.sk-toggleable {\n",
       "  /* Default theme specific background. It is overwritten whether we have a\n",
       "  specific estimator or a Pipeline/ColumnTransformer */\n",
       "  background-color: var(--sklearn-color-background);\n",
       "}\n",
       "\n",
       "/* Toggleable label */\n",
       "#sk-container-id-1 label.sk-toggleable__label {\n",
       "  cursor: pointer;\n",
       "  display: flex;\n",
       "  width: 100%;\n",
       "  margin-bottom: 0;\n",
       "  padding: 0.5em;\n",
       "  box-sizing: border-box;\n",
       "  text-align: center;\n",
       "  align-items: start;\n",
       "  justify-content: space-between;\n",
       "  gap: 0.5em;\n",
       "}\n",
       "\n",
       "#sk-container-id-1 label.sk-toggleable__label .caption {\n",
       "  font-size: 0.6rem;\n",
       "  font-weight: lighter;\n",
       "  color: var(--sklearn-color-text-muted);\n",
       "}\n",
       "\n",
       "#sk-container-id-1 label.sk-toggleable__label-arrow:before {\n",
       "  /* Arrow on the left of the label */\n",
       "  content: \"▸\";\n",
       "  float: left;\n",
       "  margin-right: 0.25em;\n",
       "  color: var(--sklearn-color-icon);\n",
       "}\n",
       "\n",
       "#sk-container-id-1 label.sk-toggleable__label-arrow:hover:before {\n",
       "  color: var(--sklearn-color-text);\n",
       "}\n",
       "\n",
       "/* Toggleable content - dropdown */\n",
       "\n",
       "#sk-container-id-1 div.sk-toggleable__content {\n",
       "  max-height: 0;\n",
       "  max-width: 0;\n",
       "  overflow: hidden;\n",
       "  text-align: left;\n",
       "  /* unfitted */\n",
       "  background-color: var(--sklearn-color-unfitted-level-0);\n",
       "}\n",
       "\n",
       "#sk-container-id-1 div.sk-toggleable__content.fitted {\n",
       "  /* fitted */\n",
       "  background-color: var(--sklearn-color-fitted-level-0);\n",
       "}\n",
       "\n",
       "#sk-container-id-1 div.sk-toggleable__content pre {\n",
       "  margin: 0.2em;\n",
       "  border-radius: 0.25em;\n",
       "  color: var(--sklearn-color-text);\n",
       "  /* unfitted */\n",
       "  background-color: var(--sklearn-color-unfitted-level-0);\n",
       "}\n",
       "\n",
       "#sk-container-id-1 div.sk-toggleable__content.fitted pre {\n",
       "  /* unfitted */\n",
       "  background-color: var(--sklearn-color-fitted-level-0);\n",
       "}\n",
       "\n",
       "#sk-container-id-1 input.sk-toggleable__control:checked~div.sk-toggleable__content {\n",
       "  /* Expand drop-down */\n",
       "  max-height: 200px;\n",
       "  max-width: 100%;\n",
       "  overflow: auto;\n",
       "}\n",
       "\n",
       "#sk-container-id-1 input.sk-toggleable__control:checked~label.sk-toggleable__label-arrow:before {\n",
       "  content: \"▾\";\n",
       "}\n",
       "\n",
       "/* Pipeline/ColumnTransformer-specific style */\n",
       "\n",
       "#sk-container-id-1 div.sk-label input.sk-toggleable__control:checked~label.sk-toggleable__label {\n",
       "  color: var(--sklearn-color-text);\n",
       "  background-color: var(--sklearn-color-unfitted-level-2);\n",
       "}\n",
       "\n",
       "#sk-container-id-1 div.sk-label.fitted input.sk-toggleable__control:checked~label.sk-toggleable__label {\n",
       "  background-color: var(--sklearn-color-fitted-level-2);\n",
       "}\n",
       "\n",
       "/* Estimator-specific style */\n",
       "\n",
       "/* Colorize estimator box */\n",
       "#sk-container-id-1 div.sk-estimator input.sk-toggleable__control:checked~label.sk-toggleable__label {\n",
       "  /* unfitted */\n",
       "  background-color: var(--sklearn-color-unfitted-level-2);\n",
       "}\n",
       "\n",
       "#sk-container-id-1 div.sk-estimator.fitted input.sk-toggleable__control:checked~label.sk-toggleable__label {\n",
       "  /* fitted */\n",
       "  background-color: var(--sklearn-color-fitted-level-2);\n",
       "}\n",
       "\n",
       "#sk-container-id-1 div.sk-label label.sk-toggleable__label,\n",
       "#sk-container-id-1 div.sk-label label {\n",
       "  /* The background is the default theme color */\n",
       "  color: var(--sklearn-color-text-on-default-background);\n",
       "}\n",
       "\n",
       "/* On hover, darken the color of the background */\n",
       "#sk-container-id-1 div.sk-label:hover label.sk-toggleable__label {\n",
       "  color: var(--sklearn-color-text);\n",
       "  background-color: var(--sklearn-color-unfitted-level-2);\n",
       "}\n",
       "\n",
       "/* Label box, darken color on hover, fitted */\n",
       "#sk-container-id-1 div.sk-label.fitted:hover label.sk-toggleable__label.fitted {\n",
       "  color: var(--sklearn-color-text);\n",
       "  background-color: var(--sklearn-color-fitted-level-2);\n",
       "}\n",
       "\n",
       "/* Estimator label */\n",
       "\n",
       "#sk-container-id-1 div.sk-label label {\n",
       "  font-family: monospace;\n",
       "  font-weight: bold;\n",
       "  display: inline-block;\n",
       "  line-height: 1.2em;\n",
       "}\n",
       "\n",
       "#sk-container-id-1 div.sk-label-container {\n",
       "  text-align: center;\n",
       "}\n",
       "\n",
       "/* Estimator-specific */\n",
       "#sk-container-id-1 div.sk-estimator {\n",
       "  font-family: monospace;\n",
       "  border: 1px dotted var(--sklearn-color-border-box);\n",
       "  border-radius: 0.25em;\n",
       "  box-sizing: border-box;\n",
       "  margin-bottom: 0.5em;\n",
       "  /* unfitted */\n",
       "  background-color: var(--sklearn-color-unfitted-level-0);\n",
       "}\n",
       "\n",
       "#sk-container-id-1 div.sk-estimator.fitted {\n",
       "  /* fitted */\n",
       "  background-color: var(--sklearn-color-fitted-level-0);\n",
       "}\n",
       "\n",
       "/* on hover */\n",
       "#sk-container-id-1 div.sk-estimator:hover {\n",
       "  /* unfitted */\n",
       "  background-color: var(--sklearn-color-unfitted-level-2);\n",
       "}\n",
       "\n",
       "#sk-container-id-1 div.sk-estimator.fitted:hover {\n",
       "  /* fitted */\n",
       "  background-color: var(--sklearn-color-fitted-level-2);\n",
       "}\n",
       "\n",
       "/* Specification for estimator info (e.g. \"i\" and \"?\") */\n",
       "\n",
       "/* Common style for \"i\" and \"?\" */\n",
       "\n",
       ".sk-estimator-doc-link,\n",
       "a:link.sk-estimator-doc-link,\n",
       "a:visited.sk-estimator-doc-link {\n",
       "  float: right;\n",
       "  font-size: smaller;\n",
       "  line-height: 1em;\n",
       "  font-family: monospace;\n",
       "  background-color: var(--sklearn-color-background);\n",
       "  border-radius: 1em;\n",
       "  height: 1em;\n",
       "  width: 1em;\n",
       "  text-decoration: none !important;\n",
       "  margin-left: 0.5em;\n",
       "  text-align: center;\n",
       "  /* unfitted */\n",
       "  border: var(--sklearn-color-unfitted-level-1) 1pt solid;\n",
       "  color: var(--sklearn-color-unfitted-level-1);\n",
       "}\n",
       "\n",
       ".sk-estimator-doc-link.fitted,\n",
       "a:link.sk-estimator-doc-link.fitted,\n",
       "a:visited.sk-estimator-doc-link.fitted {\n",
       "  /* fitted */\n",
       "  border: var(--sklearn-color-fitted-level-1) 1pt solid;\n",
       "  color: var(--sklearn-color-fitted-level-1);\n",
       "}\n",
       "\n",
       "/* On hover */\n",
       "div.sk-estimator:hover .sk-estimator-doc-link:hover,\n",
       ".sk-estimator-doc-link:hover,\n",
       "div.sk-label-container:hover .sk-estimator-doc-link:hover,\n",
       ".sk-estimator-doc-link:hover {\n",
       "  /* unfitted */\n",
       "  background-color: var(--sklearn-color-unfitted-level-3);\n",
       "  color: var(--sklearn-color-background);\n",
       "  text-decoration: none;\n",
       "}\n",
       "\n",
       "div.sk-estimator.fitted:hover .sk-estimator-doc-link.fitted:hover,\n",
       ".sk-estimator-doc-link.fitted:hover,\n",
       "div.sk-label-container:hover .sk-estimator-doc-link.fitted:hover,\n",
       ".sk-estimator-doc-link.fitted:hover {\n",
       "  /* fitted */\n",
       "  background-color: var(--sklearn-color-fitted-level-3);\n",
       "  color: var(--sklearn-color-background);\n",
       "  text-decoration: none;\n",
       "}\n",
       "\n",
       "/* Span, style for the box shown on hovering the info icon */\n",
       ".sk-estimator-doc-link span {\n",
       "  display: none;\n",
       "  z-index: 9999;\n",
       "  position: relative;\n",
       "  font-weight: normal;\n",
       "  right: .2ex;\n",
       "  padding: .5ex;\n",
       "  margin: .5ex;\n",
       "  width: min-content;\n",
       "  min-width: 20ex;\n",
       "  max-width: 50ex;\n",
       "  color: var(--sklearn-color-text);\n",
       "  box-shadow: 2pt 2pt 4pt #999;\n",
       "  /* unfitted */\n",
       "  background: var(--sklearn-color-unfitted-level-0);\n",
       "  border: .5pt solid var(--sklearn-color-unfitted-level-3);\n",
       "}\n",
       "\n",
       ".sk-estimator-doc-link.fitted span {\n",
       "  /* fitted */\n",
       "  background: var(--sklearn-color-fitted-level-0);\n",
       "  border: var(--sklearn-color-fitted-level-3);\n",
       "}\n",
       "\n",
       ".sk-estimator-doc-link:hover span {\n",
       "  display: block;\n",
       "}\n",
       "\n",
       "/* \"?\"-specific style due to the `<a>` HTML tag */\n",
       "\n",
       "#sk-container-id-1 a.estimator_doc_link {\n",
       "  float: right;\n",
       "  font-size: 1rem;\n",
       "  line-height: 1em;\n",
       "  font-family: monospace;\n",
       "  background-color: var(--sklearn-color-background);\n",
       "  border-radius: 1rem;\n",
       "  height: 1rem;\n",
       "  width: 1rem;\n",
       "  text-decoration: none;\n",
       "  /* unfitted */\n",
       "  color: var(--sklearn-color-unfitted-level-1);\n",
       "  border: var(--sklearn-color-unfitted-level-1) 1pt solid;\n",
       "}\n",
       "\n",
       "#sk-container-id-1 a.estimator_doc_link.fitted {\n",
       "  /* fitted */\n",
       "  border: var(--sklearn-color-fitted-level-1) 1pt solid;\n",
       "  color: var(--sklearn-color-fitted-level-1);\n",
       "}\n",
       "\n",
       "/* On hover */\n",
       "#sk-container-id-1 a.estimator_doc_link:hover {\n",
       "  /* unfitted */\n",
       "  background-color: var(--sklearn-color-unfitted-level-3);\n",
       "  color: var(--sklearn-color-background);\n",
       "  text-decoration: none;\n",
       "}\n",
       "\n",
       "#sk-container-id-1 a.estimator_doc_link.fitted:hover {\n",
       "  /* fitted */\n",
       "  background-color: var(--sklearn-color-fitted-level-3);\n",
       "}\n",
       "</style><div id=\"sk-container-id-1\" class=\"sk-top-container\"><div class=\"sk-text-repr-fallback\"><pre>Perceptron(random_state=42)</pre><b>In a Jupyter environment, please rerun this cell to show the HTML representation or trust the notebook. <br />On GitHub, the HTML representation is unable to render, please try loading this page with nbviewer.org.</b></div><div class=\"sk-container\" hidden><div class=\"sk-item\"><div class=\"sk-estimator fitted sk-toggleable\"><input class=\"sk-toggleable__control sk-hidden--visually\" id=\"sk-estimator-id-1\" type=\"checkbox\" checked><label for=\"sk-estimator-id-1\" class=\"sk-toggleable__label fitted sk-toggleable__label-arrow\"><div><div>Perceptron</div></div><div><a class=\"sk-estimator-doc-link fitted\" rel=\"noreferrer\" target=\"_blank\" href=\"https://scikit-learn.org/1.6/modules/generated/sklearn.linear_model.Perceptron.html\">?<span>Documentation for Perceptron</span></a><span class=\"sk-estimator-doc-link fitted\">i<span>Fitted</span></span></div></label><div class=\"sk-toggleable__content fitted\"><pre>Perceptron(random_state=42)</pre></div> </div></div></div></div>"
      ],
      "text/plain": [
       "Perceptron(random_state=42)"
      ]
     },
     "execution_count": 3,
     "metadata": {},
     "output_type": "execute_result"
    }
   ],
   "source": [
    "per_clf = Perceptron(max_iter=1000, tol=1e-3, random_state=42)\n",
    "per_clf.fit(X,y)"
   ]
  },
  {
   "cell_type": "code",
   "execution_count": 4,
   "metadata": {
    "id": "RU8nJGQo96nY"
   },
   "outputs": [],
   "source": [
    "y_pred=per_clf.predict([[2,0.5]])"
   ]
  },
  {
   "cell_type": "markdown",
   "metadata": {
    "id": "L33GBuxILvm4"
   },
   "source": [
    "↑↑↑↑↑↑↑↑↑↑↑↑↑↑↑↑↑↑↑↑↑↑↑↑↑↑↑↑↑↑↑ your code goes above"
   ]
  },
  {
   "cell_type": "code",
   "execution_count": 5,
   "metadata": {
    "id": "KzqgH5uG96nZ"
   },
   "outputs": [
    {
     "data": {
      "image/png": "[encoded data removed]",
      "text/plain": [
       "<Figure size 1000x400 with 1 Axes>"
      ]
     },
     "metadata": {},
     "output_type": "display_data"
    }
   ],
   "source": [
    "a = -per_clf.coef_[0][0] / per_clf.coef_[0][1]\n",
    "b = -per_clf.intercept_ / per_clf.coef_[0][1]\n",
    "\n",
    "axes = [0, 5, 0, 2]\n",
    "\n",
    "x0, x1 = np.meshgrid(\n",
    "        np.linspace(axes[0], axes[1], 500).reshape(-1, 1),\n",
    "        np.linspace(axes[2], axes[3], 200).reshape(-1, 1),\n",
    "    )\n",
    "X_new = np.c_[x0.ravel(), x1.ravel()]\n",
    "y_predict = per_clf.predict(X_new)\n",
    "zz = y_predict.reshape(x0.shape)\n",
    "\n",
    "plt.figure(figsize=(10, 4))\n",
    "plt.plot(X[y==0, 0], X[y==0, 1], \"bs\", label=\"Not Iris-Setosa\")\n",
    "plt.plot(X[y==1, 0], X[y==1, 1], \"yo\", label=\"Iris-Setosa\")\n",
    "\n",
    "plt.plot([axes[0], axes[1]], [a * axes[0] + b, a * axes[1] + b], \"k-\", linewidth=3)\n",
    "from matplotlib.colors import ListedColormap\n",
    "custom_cmap = ListedColormap(['#9898ff', '#fafab0'])\n",
    "\n",
    "plt.contourf(x0, x1, zz, cmap=custom_cmap)\n",
    "plt.xlabel(\"Petal length\", fontsize=14)\n",
    "plt.ylabel(\"Petal width\", fontsize=14)\n",
    "plt.legend(loc=\"lower right\", fontsize=14)\n",
    "plt.axis(axes)\n",
    "plt.show()"
   ]
  },
  {
   "cell_type": "markdown",
   "metadata": {
    "id": "c7AzNDaU-xOV"
   },
   "source": [
    "### Task 2\n",
    " Elaborate on the difference between a perceptron and logistic regression.\n",
    "\n",
    " **Hint:** Consider the nature of the boundary in the above plot."
   ]
  },
  {
   "cell_type": "markdown",
   "metadata": {
    "id": "AW0MVBaoHNDW"
   },
   "source": [
    "↓↓↓↓↓↓↓↓↓↓↓↓↓↓↓↓↓↓↓↓↓↓↓↓↓↓↓↓↓↓↓ your answer goes below"
   ]
  },
  {
   "cell_type": "markdown",
   "metadata": {
    "id": "k64m9OUeHNDW"
   },
   "source": [
    "Task 2 answer:\n",
    "\n",
    "\n",
    "**Perceptron** is a hard-threshold linear classifier trained by mistake-driven updates; it has no probabilistic interpretation and only converges on separable data. \\\n",
    "**Logistic Regression** is a probabilistic linear classifier trained by optimizing a smooth, convex logistic loss; it yields calibrated probabilities, converges reliably (via convex optimization), and handles inseparable/noisy data gracefully.\n"
   ]
  },
  {
   "cell_type": "markdown",
   "metadata": {
    "id": "kdoyypmcHNDW"
   },
   "source": [
    "↑↑↑↑↑↑↑↑↑↑↑↑↑↑↑↑↑↑↑↑↑↑↑↑↑↑↑↑↑↑↑ your answer goes above"
   ]
  },
  {
   "cell_type": "markdown",
   "metadata": {
    "id": "AZr175SP96na"
   },
   "source": [
    "# Activation functions"
   ]
  },
  {
   "cell_type": "markdown",
   "metadata": {
    "id": "uBhSPTlaDZcE"
   },
   "source": [
    "### Task 3\n",
    "Describe the role of activation functions within a neural network. If you build <br>\n",
    "a neural network with no activation function, which model that we've seen in <br>\n",
    "this class would your network resemble?"
   ]
  },
  {
   "cell_type": "markdown",
   "metadata": {
    "id": "e9pD5KasHNDW"
   },
   "source": [
    "↓↓↓↓↓↓↓↓↓↓↓↓↓↓↓↓↓↓↓↓↓↓↓↓↓↓↓↓↓↓↓ your answer goes below"
   ]
  },
  {
   "cell_type": "markdown",
   "metadata": {
    "id": "zSarFW4JHNDX"
   },
   "source": [
    "Task 3 answer:\n",
    "\n",
    "Activation Functions: nonlinear “gates” in a neural network that enable it to learn and represent complex, non-linear mappings from inputs to outputs \n",
    "\n",
    "Linear regression (for real-valued outputs) or a (single-layer) perceptron / linear classifier (for categorical outputs)"
   ]
  },
  {
   "cell_type": "markdown",
   "metadata": {
    "id": "rETgKA70HNDX"
   },
   "source": [
    "↑↑↑↑↑↑↑↑↑↑↑↑↑↑↑↑↑↑↑↑↑↑↑↑↑↑↑↑↑↑↑ your answer goes above"
   ]
  },
  {
   "cell_type": "markdown",
   "metadata": {
    "id": "4zZHVAV096nd"
   },
   "source": [
    "# Building an Image Classifier"
   ]
  },
  {
   "cell_type": "markdown",
   "metadata": {
    "id": "D6d_vhWv96nd"
   },
   "source": [
    "First let's import Pytorch. **Pytorch is a machine learning platform developed** <br>\n",
    "**by Meta**. It is now a free, open-source platform."
   ]
  },
  {
   "cell_type": "code",
   "execution_count": 6,
   "metadata": {
    "id": "kSUOusSb96nd"
   },
   "outputs": [
    {
     "data": {
      "text/plain": [
       "'2.7.1'"
      ]
     },
     "execution_count": 6,
     "metadata": {},
     "output_type": "execute_result"
    }
   ],
   "source": [
    "torch.__version__"
   ]
  },
  {
   "cell_type": "markdown",
   "metadata": {
    "id": "0IC001Fj96ne"
   },
   "source": [
    "Let's start by loading the [fashion MNIST](https://github.com/zalandoresearch/fashion-mnist) dataset. Keras has a number <br>\n",
    "of functions to load popular datasets in `keras.datasets`. **The dataset is** <br> **already split for you between a training set and a test set**, but it can be <br> useful to split the training set further to have a validation set."
   ]
  },
  {
   "cell_type": "markdown",
   "metadata": {
    "id": "MpvihLLAiCtJ"
   },
   "source": [
    "Keras is another machine learning toolkit that acts as the python interface <br>\n",
    "for tensorflow. We generally won't use it in this course other than for <br>\n",
    "accessing some data collections."
   ]
  },
  {
   "cell_type": "code",
   "execution_count": 7,
   "metadata": {
    "id": "H2XiMCMx96nd"
   },
   "outputs": [
    {
     "name": "stderr",
     "output_type": "stream",
     "text": [
      "/Users/user/internship25/ML_exercies/.env/lib/python3.9/site-packages/urllib3/__init__.py:35: NotOpenSSLWarning: urllib3 v2 only supports OpenSSL 1.1.1+, currently the 'ssl' module is compiled with 'LibreSSL 2.8.3'. See: https://github.com/urllib3/urllib3/issues/3020\n",
      "  warnings.warn(\n"
     ]
    }
   ],
   "source": [
    "import keras"
   ]
  },
  {
   "cell_type": "code",
   "execution_count": 8,
   "metadata": {
    "id": "rR7u1KhvlU5E"
   },
   "outputs": [],
   "source": [
    "fashion_mnist = keras.datasets.fashion_mnist\n",
    "(X_train_full, y_train_full), (X_test, y_test) = fashion_mnist.load_data()"
   ]
  },
  {
   "cell_type": "markdown",
   "metadata": {
    "id": "Bm2mJI2v96ne"
   },
   "source": [
    "The training set contains 60,000 grayscale images, each 28x28 pixels:"
   ]
  },
  {
   "cell_type": "code",
   "execution_count": 9,
   "metadata": {
    "id": "ojm1jhI7ybiU"
   },
   "outputs": [
    {
     "data": {
      "text/plain": [
       "(60000, 28, 28)"
      ]
     },
     "execution_count": 9,
     "metadata": {},
     "output_type": "execute_result"
    }
   ],
   "source": [
    "X_train_full.shape"
   ]
  },
  {
   "cell_type": "markdown",
   "metadata": {
    "id": "2q7eH1GS96nf"
   },
   "source": [
    "Each pixel intensity is represented as a byte (0 to 255):"
   ]
  },
  {
   "cell_type": "code",
   "execution_count": 10,
   "metadata": {
    "id": "cdlXIZMO-3Cn"
   },
   "outputs": [
    {
     "data": {
      "text/plain": [
       "dtype('uint8')"
      ]
     },
     "execution_count": 10,
     "metadata": {},
     "output_type": "execute_result"
    }
   ],
   "source": [
    "X_train_full.dtype"
   ]
  },
  {
   "cell_type": "markdown",
   "metadata": {
    "id": "up_jreEp96ng"
   },
   "source": [
    "Let's **split the full training set into a validation set and a (smaller)** <br> **training set**. We also **scale the pixel intensities down to the 0-1 range** and <br>\n",
    "convert them to floats, by dividing by 255. This is essentially min-max scaling <br>\n",
    "or normalization for pixels with a maximum value of 255 and a minimum of 0."
   ]
  },
  {
   "cell_type": "code",
   "execution_count": 11,
   "metadata": {
    "id": "AAZzoYRD96ng"
   },
   "outputs": [],
   "source": [
    "X_valid, X_train = X_train_full[:5000] / 255., X_train_full[5000:] / 255.\n",
    "y_valid, y_train = y_train_full[:5000], y_train_full[5000:]\n",
    "X_test = X_test / 255."
   ]
  },
  {
   "cell_type": "markdown",
   "metadata": {
    "id": "IG-ZXYbM96ng"
   },
   "source": [
    "You can plot an image using Matplotlib's `imshow()` function, with a `'binary'` <br>\n",
    "color map:"
   ]
  },
  {
   "cell_type": "code",
   "execution_count": 12,
   "metadata": {
    "id": "h5qfRYzl96ng"
   },
   "outputs": [
    {
     "data": {
      "image/png": "[encoded data removed]",
      "text/plain": [
       "<Figure size 640x480 with 1 Axes>"
      ]
     },
     "metadata": {},
     "output_type": "display_data"
    }
   ],
   "source": [
    "plt.imshow(X_train[0], cmap=\"binary\")\n",
    "plt.axis('off')\n",
    "plt.show()"
   ]
  },
  {
   "cell_type": "markdown",
   "metadata": {
    "id": "0HIhKfBK96nh"
   },
   "source": [
    "The labels are the class IDs (represented as uint8), from 0 to 9:"
   ]
  },
  {
   "cell_type": "code",
   "execution_count": 13,
   "metadata": {
    "id": "CC0hpimX96nh"
   },
   "outputs": [
    {
     "data": {
      "text/plain": [
       "array([4, 0, 7, ..., 3, 0, 5], dtype=uint8)"
      ]
     },
     "execution_count": 13,
     "metadata": {},
     "output_type": "execute_result"
    }
   ],
   "source": [
    "y_train"
   ]
  },
  {
   "cell_type": "markdown",
   "metadata": {
    "id": "XuQH9NeY96nh"
   },
   "source": [
    "Here are the corresponding class names:"
   ]
  },
  {
   "cell_type": "code",
   "execution_count": 14,
   "metadata": {
    "id": "6DnDTta596nh"
   },
   "outputs": [],
   "source": [
    "class_names = [\"T-shirt/top\", \"Trouser\", \"Pullover\", \"Dress\", \"Coat\",\n",
    "               \"Sandal\", \"Shirt\", \"Sneaker\", \"Bag\", \"Ankle boot\"]"
   ]
  },
  {
   "cell_type": "markdown",
   "metadata": {
    "id": "7Z3ctcPE96ni"
   },
   "source": [
    "So the first image in the training set is a coat:"
   ]
  },
  {
   "cell_type": "code",
   "execution_count": 15,
   "metadata": {
    "id": "wo3nXTyr96ni"
   },
   "outputs": [
    {
     "data": {
      "text/plain": [
       "'Coat'"
      ]
     },
     "execution_count": 15,
     "metadata": {},
     "output_type": "execute_result"
    }
   ],
   "source": [
    "class_names[y_train[0]]"
   ]
  },
  {
   "cell_type": "markdown",
   "metadata": {
    "id": "CSVf64Kv96ni"
   },
   "source": [
    "The validation set contains 5,000 images, and the test set contains 10,000 images:"
   ]
  },
  {
   "cell_type": "code",
   "execution_count": 16,
   "metadata": {
    "id": "r3DPLv7496ni"
   },
   "outputs": [
    {
     "data": {
      "text/plain": [
       "(5000, 28, 28)"
      ]
     },
     "execution_count": 16,
     "metadata": {},
     "output_type": "execute_result"
    }
   ],
   "source": [
    "X_valid.shape"
   ]
  },
  {
   "cell_type": "code",
   "execution_count": 17,
   "metadata": {
    "id": "oBVt2-n196nj"
   },
   "outputs": [
    {
     "data": {
      "text/plain": [
       "(10000, 28, 28)"
      ]
     },
     "execution_count": 17,
     "metadata": {},
     "output_type": "execute_result"
    }
   ],
   "source": [
    "X_test.shape"
   ]
  },
  {
   "cell_type": "markdown",
   "metadata": {
    "id": "cr7f-I2i96nj"
   },
   "source": [
    "Let's take a look at a sample of the images in the dataset:"
   ]
  },
  {
   "cell_type": "code",
   "execution_count": 18,
   "metadata": {
    "id": "OiwEaciG96nj"
   },
   "outputs": [
    {
     "data": {
      "image/png": "[encoded data removed]",
      "text/plain": [
       "<Figure size 1200x480 with 40 Axes>"
      ]
     },
     "metadata": {},
     "output_type": "display_data"
    }
   ],
   "source": [
    "n_rows = 4\n",
    "n_cols = 10\n",
    "plt.figure(figsize=(n_cols * 1.2, n_rows * 1.2))\n",
    "for row in range(n_rows):\n",
    "    for col in range(n_cols):\n",
    "        index = n_cols * row + col\n",
    "        plt.subplot(n_rows, n_cols, index + 1)\n",
    "        plt.imshow(X_train[index], cmap=\"binary\", interpolation=\"nearest\")\n",
    "        plt.axis('off')\n",
    "        plt.title(class_names[y_train[index]], fontsize=12)\n",
    "plt.subplots_adjust(wspace=0.2, hspace=0.5)\n",
    "plt.show()"
   ]
  },
  {
   "cell_type": "markdown",
   "metadata": {
    "id": "P0XW9zPwEs9r"
   },
   "source": [
    "**Data Loaders:**\n",
    "Pytorch is built on a data type called a tensor. Numpy arrays are not <br>\n",
    "themselves tensors. So we'll use a *dataloader* to **convert our numpy arrays to** <br>\n",
    "**tensors** and pass those to our pytorch model."
   ]
  },
  {
   "cell_type": "code",
   "execution_count": 19,
   "metadata": {
    "id": "Hea2aFOuFayd"
   },
   "outputs": [],
   "source": [
    "from torch.utils.data import Dataset, DataLoader"
   ]
  },
  {
   "cell_type": "code",
   "execution_count": 20,
   "metadata": {
    "id": "FRIUnQUAEsNW"
   },
   "outputs": [],
   "source": [
    "class MnistDataset(Dataset):\n",
    "    def __init__(self, X, y):\n",
    "        self.X = torch.from_numpy(X.copy()).float()\n",
    "        self.y = torch.from_numpy(y.copy()).long()\n",
    "    def __len__(self):\n",
    "        return len(self.X)\n",
    "    def __getitem__(self, idx):\n",
    "        return self.X[idx], self.y[idx]"
   ]
  },
  {
   "cell_type": "code",
   "execution_count": 21,
   "metadata": {
    "id": "Tp-feDfY-14P"
   },
   "outputs": [],
   "source": [
    "train_data = MnistDataset(X_train, y_train)\n",
    "valid_data = MnistDataset(X_valid, y_valid)\n",
    "test_data = MnistDataset(X_test, y_test)\n",
    "\n",
    "train_loader = DataLoader(train_data, batch_size=64, shuffle=True)\n",
    "test_loader = DataLoader(test_data, batch_size=64, shuffle=False)\n",
    "valid_loader = DataLoader(valid_data, batch_size=64, shuffle=False)"
   ]
  },
  {
   "cell_type": "markdown",
   "metadata": {
    "id": "CMpzLBpwgobd"
   },
   "source": [
    "Here's an [introductory tutorial](https://pytorch.org/tutorials/beginner/basics/data_tutorial.html) to using Datasets and Dataloaders in Pytorch that <br> you may find helpful."
   ]
  },
  {
   "cell_type": "markdown",
   "metadata": {
    "id": "t1G5vYM4AEYy"
   },
   "source": [
    "## Defining a neural network using Pytorch:\n",
    "\n",
    "In the cells below we  build an deep neural network model using the Pytorch <Br>\n",
    "Sequential class. The input is an image of shape 28 by 28 whose dimensions are <br> reshaped to a flat 1d array of length $28^2=784$ by the `nn.Flatten` layer. <br>\n",
    "The network consists of `Linear` layers (fully-connected multi-output <br> perceptrons) sandwiched between non-linear activations `ReLU` and `Softmax`.<br> The `Softmax` output activation function is used for multi-label classification. <br>\n",
    "The layers are wrapped in a `nn.Sequential` function that executes each <br> operation in the given order when the `model` object is called. <br>"
   ]
  },
  {
   "cell_type": "code",
   "execution_count": 22,
   "metadata": {
    "id": "MFYpKULg96nk"
   },
   "outputs": [
    {
     "data": {
      "text/plain": [
       "<torch._C.Generator at 0x136014d50>"
      ]
     },
     "execution_count": 22,
     "metadata": {},
     "output_type": "execute_result"
    }
   ],
   "source": [
    "np.random.seed(42)\n",
    "torch.manual_seed(42)"
   ]
  },
  {
   "cell_type": "code",
   "execution_count": 23,
   "metadata": {
    "id": "nHTrilwL96nk"
   },
   "outputs": [],
   "source": [
    "from torch import nn\n",
    "\n",
    "model = nn.Sequential(\n",
    "    nn.Flatten(),\n",
    "    nn.Linear(28*28, 300),\n",
    "    nn.ReLU(),\n",
    "    nn.Linear(300, 100),\n",
    "    nn.ReLU(),\n",
    "    nn.Linear(100, 10),\n",
    "    nn.Softmax(dim=1)\n",
    ")"
   ]
  },
  {
   "cell_type": "markdown",
   "metadata": {
    "id": "05UJj6PrlMY9"
   },
   "source": [
    "**This is essentially a multi-layer perceptron model with activation functions** <br>\n",
    "to each \"neuron\". Additionally, **we no longer end the model with a decision** <br>\n",
    "**function** that outputs either a 0 or 1. Here our final layer's **weights** <br>\n",
    "**will be passed through a softmax function which will output a** <br>\n",
    "**collection of 10 values which add up to 1**. These are the probabilities of each <br>\n",
    "class being the correct class."
   ]
  },
  {
   "cell_type": "code",
   "execution_count": 24,
   "metadata": {
    "id": "S6wLCkUc96nk"
   },
   "outputs": [
    {
     "name": "stdout",
     "output_type": "stream",
     "text": [
      "Sequential(\n",
      "  (0): Flatten(start_dim=1, end_dim=-1)\n",
      "  (1): Linear(in_features=784, out_features=300, bias=True)\n",
      "  (2): ReLU()\n",
      "  (3): Linear(in_features=300, out_features=100, bias=True)\n",
      "  (4): ReLU()\n",
      "  (5): Linear(in_features=100, out_features=10, bias=True)\n",
      "  (6): Softmax(dim=1)\n",
      ")\n"
     ]
    }
   ],
   "source": [
    "print(model)"
   ]
  },
  {
   "cell_type": "markdown",
   "metadata": {
    "id": "iFvLmimPHNDc"
   },
   "source": [
    "We can look at the layers directly:"
   ]
  },
  {
   "cell_type": "code",
   "execution_count": 25,
   "metadata": {
    "id": "3skG5ULDHNDc"
   },
   "outputs": [
    {
     "data": {
      "text/plain": [
       "Linear(in_features=784, out_features=300, bias=True)"
      ]
     },
     "execution_count": 25,
     "metadata": {},
     "output_type": "execute_result"
    }
   ],
   "source": [
    "model[1] # 1st hidden layer is at index 1"
   ]
  },
  {
   "cell_type": "code",
   "execution_count": 26,
   "metadata": {
    "id": "eR5m6LjX96nl"
   },
   "outputs": [
    {
     "data": {
      "text/plain": [
       "Parameter containing:\n",
       "tensor([[ 0.0273,  0.0296, -0.0084,  ..., -0.0142,  0.0093,  0.0135],\n",
       "        [-0.0188, -0.0354,  0.0187,  ..., -0.0106, -0.0001,  0.0115],\n",
       "        [-0.0008,  0.0017,  0.0045,  ..., -0.0127, -0.0188,  0.0059],\n",
       "        ...,\n",
       "        [-0.0283,  0.0160, -0.0331,  ..., -0.0214, -0.0285,  0.0025],\n",
       "        [ 0.0149, -0.0222,  0.0158,  ...,  0.0002,  0.0009,  0.0010],\n",
       "        [ 0.0060, -0.0062, -0.0113,  ...,  0.0222,  0.0135, -0.0049]],\n",
       "       requires_grad=True)"
      ]
     },
     "execution_count": 26,
     "metadata": {},
     "output_type": "execute_result"
    }
   ],
   "source": [
    "model[1].weight"
   ]
  },
  {
   "cell_type": "code",
   "execution_count": 27,
   "metadata": {
    "id": "ETO_Mi2f96nm"
   },
   "outputs": [
    {
     "data": {
      "text/plain": [
       "Parameter containing:\n",
       "tensor([ 0.0206,  0.0060,  0.0232, -0.0270, -0.0098, -0.0182, -0.0304, -0.0039,\n",
       "         0.0041,  0.0309, -0.0117,  0.0326,  0.0127, -0.0348, -0.0126, -0.0341,\n",
       "        -0.0169, -0.0226, -0.0347,  0.0201,  0.0293, -0.0016, -0.0167,  0.0077,\n",
       "         0.0332, -0.0142, -0.0279, -0.0221,  0.0331, -0.0055, -0.0130,  0.0019,\n",
       "        -0.0034, -0.0280,  0.0010,  0.0137,  0.0272,  0.0116, -0.0218,  0.0247,\n",
       "         0.0040, -0.0131, -0.0045, -0.0003, -0.0321, -0.0075,  0.0031, -0.0330,\n",
       "         0.0140, -0.0321, -0.0045, -0.0035,  0.0332,  0.0188, -0.0277, -0.0120,\n",
       "        -0.0268, -0.0152, -0.0327, -0.0103,  0.0282,  0.0170,  0.0344, -0.0027,\n",
       "        -0.0096, -0.0202, -0.0189, -0.0084, -0.0194, -0.0327, -0.0287, -0.0225,\n",
       "        -0.0017, -0.0080, -0.0102, -0.0216,  0.0171,  0.0219, -0.0348,  0.0229,\n",
       "        -0.0177,  0.0216, -0.0281,  0.0350,  0.0019, -0.0181, -0.0004, -0.0327,\n",
       "         0.0191,  0.0283, -0.0205, -0.0212,  0.0040,  0.0131, -0.0218,  0.0054,\n",
       "         0.0006,  0.0229,  0.0301, -0.0169,  0.0102,  0.0157, -0.0213,  0.0213,\n",
       "        -0.0085,  0.0229,  0.0178,  0.0188,  0.0182, -0.0264, -0.0269,  0.0040,\n",
       "        -0.0072,  0.0134, -0.0148, -0.0343,  0.0021, -0.0109,  0.0104,  0.0252,\n",
       "         0.0197, -0.0216, -0.0314, -0.0205, -0.0249, -0.0145, -0.0177, -0.0287,\n",
       "        -0.0255,  0.0345, -0.0086, -0.0318,  0.0079, -0.0163,  0.0244, -0.0346,\n",
       "         0.0136, -0.0108, -0.0209,  0.0069,  0.0082, -0.0290, -0.0010,  0.0033,\n",
       "         0.0268, -0.0198,  0.0222,  0.0044, -0.0089, -0.0072,  0.0161,  0.0176,\n",
       "         0.0052,  0.0185,  0.0143,  0.0303, -0.0152, -0.0214, -0.0170,  0.0035,\n",
       "         0.0126,  0.0108,  0.0145,  0.0027,  0.0223, -0.0070,  0.0163,  0.0120,\n",
       "        -0.0244, -0.0142,  0.0148, -0.0338,  0.0328,  0.0084, -0.0183, -0.0049,\n",
       "         0.0203,  0.0166,  0.0236, -0.0264, -0.0247,  0.0014,  0.0115, -0.0032,\n",
       "        -0.0337, -0.0156, -0.0340, -0.0174, -0.0018,  0.0325, -0.0249, -0.0346,\n",
       "        -0.0167,  0.0035,  0.0243,  0.0037, -0.0216,  0.0006, -0.0157,  0.0345,\n",
       "         0.0039, -0.0312,  0.0323, -0.0182, -0.0256, -0.0253,  0.0293, -0.0324,\n",
       "         0.0216, -0.0241, -0.0197,  0.0255, -0.0262, -0.0302, -0.0184,  0.0301,\n",
       "        -0.0024,  0.0309,  0.0228, -0.0151, -0.0154, -0.0127,  0.0166,  0.0179,\n",
       "         0.0032, -0.0045, -0.0057, -0.0158, -0.0121, -0.0134, -0.0023,  0.0037,\n",
       "         0.0185,  0.0124,  0.0041, -0.0323, -0.0156, -0.0015,  0.0220,  0.0246,\n",
       "         0.0106, -0.0315, -0.0049, -0.0019, -0.0284,  0.0174, -0.0328,  0.0021,\n",
       "        -0.0252,  0.0307, -0.0017,  0.0279,  0.0300,  0.0309, -0.0162,  0.0122,\n",
       "         0.0180, -0.0009, -0.0233, -0.0241,  0.0114, -0.0210,  0.0139, -0.0034,\n",
       "         0.0135,  0.0196,  0.0108,  0.0251, -0.0069, -0.0152, -0.0047,  0.0335,\n",
       "         0.0318, -0.0221, -0.0136, -0.0106,  0.0055, -0.0294,  0.0353,  0.0098,\n",
       "         0.0196, -0.0197,  0.0241, -0.0116, -0.0244, -0.0294,  0.0096, -0.0086,\n",
       "        -0.0121, -0.0340,  0.0203,  0.0332, -0.0226, -0.0016,  0.0235, -0.0143,\n",
       "        -0.0162, -0.0013, -0.0140, -0.0216], requires_grad=True)"
      ]
     },
     "execution_count": 27,
     "metadata": {},
     "output_type": "execute_result"
    }
   ],
   "source": [
    "model[1].bias"
   ]
  },
  {
   "cell_type": "code",
   "execution_count": 28,
   "metadata": {
    "id": "i-AWFPWX96nm"
   },
   "outputs": [
    {
     "data": {
      "text/plain": [
       "torch.Size([300, 784])"
      ]
     },
     "execution_count": 28,
     "metadata": {},
     "output_type": "execute_result"
    }
   ],
   "source": [
    "model[1].weight.shape"
   ]
  },
  {
   "cell_type": "code",
   "execution_count": 29,
   "metadata": {},
   "outputs": [
    {
     "data": {
      "text/plain": [
       "torch.Size([300])"
      ]
     },
     "execution_count": 29,
     "metadata": {},
     "output_type": "execute_result"
    }
   ],
   "source": [
    "model[1].bias.shape"
   ]
  },
  {
   "cell_type": "markdown",
   "metadata": {
    "id": "pDu2dLD8BbeJ"
   },
   "source": [
    "## Training loop in Pytroch\n",
    "In pytorch we need to **create loops** that do things like **training** our model. <br>\n",
    "Below is an example training loop that we'll use in this code. Each step is <br>\n",
    "commented and it's **very important to understand this code** in order to use <br>\n",
    "pytorch and other similar machine learning libraries."
   ]
  },
  {
   "cell_type": "code",
   "execution_count": 30,
   "metadata": {
    "id": "MNjZ9XsLEloH"
   },
   "outputs": [],
   "source": [
    "def train_and_validate(train_loader, val_loader, model, optimizer, criterion, num_epochs, metric=None):\n",
    "    history = {\n",
    "        'epoch': [],\n",
    "        'train_loss': [],\n",
    "        'train_metric': [],\n",
    "        'val_loss': [],\n",
    "        'val_metric': []\n",
    "    }  # Initialize a dictionary to store epoch-wise results\n",
    "\n",
    "    for epoch in range(num_epochs):\n",
    "        model.train()  # Set the model to training mode\n",
    "        epoch_loss = 0.0  # Initialize the epoch loss and metric values\n",
    "        epoch_metric = 0.0\n",
    "\n",
    "        # Training loop\n",
    "        for X, y in train_loader: # Iterate through train data loader\n",
    "            optimizer.zero_grad()  # Clear existing gradients\n",
    "            outputs = model(X)  # Make predictions\n",
    "\n",
    "            #REPLACE THE FOLLOWING LINE FOR EXERCISE 8\n",
    "            #loss = criterion(outputs.squeeze(-1), y)  # Compute the loss\n",
    "            loss = criterion(outputs, y)  # Compute the loss\n",
    "\n",
    "            loss.backward()  # Compute gradients\n",
    "            optimizer.step()  # Update model parameters\n",
    "\n",
    "            epoch_loss += loss.item() # Add up loss across each batch in the epoch\n",
    "            if metric is not None: # Check whether you've passed a loss metric\n",
    "                epoch_metric += metric(outputs, y) # Compute metric value\n",
    "            else:\n",
    "                epoch_metric += 0 # If no metric, append 0\n",
    "\n",
    "        # Average training loss and metric\n",
    "        epoch_loss /= len(train_loader)\n",
    "        epoch_metric /= len(train_loader)\n",
    "\n",
    "        # Validation loop\n",
    "        model.eval()  # Set the model to evaluation mode\n",
    "        with torch.no_grad():  # Disable gradient calculation\n",
    "            val_loss = 0.0\n",
    "            val_metric = 0.0\n",
    "            for X_val, y_val in val_loader:\n",
    "                outputs_val = model(X_val)  # Make predictions\n",
    "\n",
    "                #REPLACE THE FOLLOWING LINE FOR EXERCISE 8\n",
    "                #val_loss += criterion(outputs_val.squeeze(-1), y_val).item()  # Compute the loss\n",
    "                val_loss += criterion(outputs_val, y_val).item()  # Compute loss\n",
    "\n",
    "                if metric is not None:\n",
    "                    val_metric += metric(outputs_val, y_val)\n",
    "                else:\n",
    "                    val_metric += 0\n",
    "\n",
    "            val_loss /= len(val_loader)\n",
    "            val_metric /= len(val_loader)\n",
    "\n",
    "        # Append epoch results to history\n",
    "        history['epoch'].append(epoch)\n",
    "        history['train_loss'].append(epoch_loss)\n",
    "        history['train_metric'].append(epoch_metric)\n",
    "        history['val_loss'].append(val_loss)\n",
    "        history['val_metric'].append(val_metric)\n",
    "\n",
    "        print(f'Epoch [{epoch+1}/{num_epochs}], Train Loss: {epoch_loss:.4f}, '\n",
    "              f'Train Metric: {epoch_metric:.4f}, Val Loss: {val_loss:.4f}, '\n",
    "              f'Val Metric: {val_metric:.4f}')\n",
    "\n",
    "    return history, model"
   ]
  },
  {
   "cell_type": "markdown",
   "metadata": {
    "id": "YB7Fl7Bprtzs"
   },
   "source": [
    "**Model parameters:**\n",
    "Here, we choose the **\"sgd\" optimizer**. The SGD optimizer is a derivative of <br>\n",
    "the SGD algorithm but, instead of updating coefficients for a linear <br> regression as we saw in previous exercises, we compute the **gradient of our** <br>\n",
    "**loss function** (sparse categorical crossentropy) **with respect to our model** <br>\n",
    "**weights and layer biases** and use that to update our weights and biases. Note <br>\n",
    "that our gradient will now be the sum of more complicated partial <br>\n",
    "derivatives. Note that **our gradient will now be the sum of more complicated** <br>\n",
    "**partial derivatives**. $\\partial L/\\partial w_i = (\\partial L / \\partial f(w_i)) (\\partial f(w_i) / \\partial w_i)$ where <br>\n",
    "$f(w_i) = ReLU(w_ix_i + b)$. Additionally we may have a partial derivative for <br>\n",
    "our bias term $\\partial L/\\partial b$. The total gradient for stochastic gradient descent will then be <br>\n",
    "$\\nabla L_{layer} = \\Sigma_i \\partial L/\\partial w_i + \\partial L/\\partial b$."
   ]
  },
  {
   "cell_type": "code",
   "execution_count": 31,
   "metadata": {
    "id": "Iha1BNF296nn"
   },
   "outputs": [],
   "source": [
    "criterion = torch.nn.CrossEntropyLoss() # This is a loss function/criterion\n",
    "optimizer = torch.optim.SGD(model.parameters(), lr=0.01) # This updates model weights\n",
    "\n",
    "def accuracy_metric(pred, target): # This is an accuracy metric\n",
    "    if pred.shape[1] > 1: # \"Accuracy\" calcuation is different depending on # of classes\n",
    "        pred = pred.argmax(dim=1)\n",
    "        accuracy = torch.sum(pred == target).item() / len(pred)\n",
    "    else:\n",
    "        accuracy = torch.sum(pred > 0.5 == target).item() / len(pred)\n",
    "    return accuracy"
   ]
  },
  {
   "cell_type": "markdown",
   "metadata": {
    "id": "Z01D2HtY6B4r"
   },
   "source": [
    "Now let's train the model for 30 epochs.\n",
    "\n",
    "We save the most crucial parameters (`['loss', 'accuracy', 'val_loss',` <br> '`val_accuracy']`) in a dictionary named \"history\"."
   ]
  },
  {
   "cell_type": "code",
   "execution_count": 32,
   "metadata": {
    "id": "niNnbD7U96no"
   },
   "outputs": [
    {
     "name": "stdout",
     "output_type": "stream",
     "text": [
      "Epoch [1/30], Train Loss: 2.2993, Train Metric: 0.2244, Val Loss: 2.2947, Val Metric: 0.3477\n",
      "Epoch [2/30], Train Loss: 2.2869, Train Metric: 0.3564, Val Loss: 2.2752, Val Metric: 0.3530\n",
      "Epoch [3/30], Train Loss: 2.2372, Train Metric: 0.3208, Val Loss: 2.1675, Val Metric: 0.3412\n",
      "Epoch [4/30], Train Loss: 2.0716, Train Metric: 0.4775, Val Loss: 1.9794, Val Metric: 0.5487\n",
      "Epoch [5/30], Train Loss: 1.9373, Train Metric: 0.5767, Val Loss: 1.8899, Val Metric: 0.6286\n",
      "Epoch [6/30], Train Loss: 1.8712, Train Metric: 0.6273, Val Loss: 1.8493, Val Metric: 0.6325\n",
      "Epoch [7/30], Train Loss: 1.8431, Train Metric: 0.6333, Val Loss: 1.8294, Val Metric: 0.6422\n",
      "Epoch [8/30], Train Loss: 1.8257, Train Metric: 0.6539, Val Loss: 1.8139, Val Metric: 0.6746\n",
      "Epoch [9/30], Train Loss: 1.8090, Train Metric: 0.6837, Val Loss: 1.7965, Val Metric: 0.6998\n",
      "Epoch [10/30], Train Loss: 1.7925, Train Metric: 0.7006, Val Loss: 1.7818, Val Metric: 0.7091\n",
      "Epoch [11/30], Train Loss: 1.7795, Train Metric: 0.7091, Val Loss: 1.7698, Val Metric: 0.7150\n",
      "Epoch [12/30], Train Loss: 1.7697, Train Metric: 0.7142, Val Loss: 1.7625, Val Metric: 0.7174\n",
      "Epoch [13/30], Train Loss: 1.7623, Train Metric: 0.7173, Val Loss: 1.7556, Val Metric: 0.7205\n",
      "Epoch [14/30], Train Loss: 1.7569, Train Metric: 0.7199, Val Loss: 1.7527, Val Metric: 0.7213\n",
      "Epoch [15/30], Train Loss: 1.7523, Train Metric: 0.7226, Val Loss: 1.7469, Val Metric: 0.7267\n",
      "Epoch [16/30], Train Loss: 1.7488, Train Metric: 0.7247, Val Loss: 1.7433, Val Metric: 0.7275\n",
      "Epoch [17/30], Train Loss: 1.7460, Train Metric: 0.7262, Val Loss: 1.7412, Val Metric: 0.7288\n",
      "Epoch [18/30], Train Loss: 1.7435, Train Metric: 0.7281, Val Loss: 1.7388, Val Metric: 0.7308\n",
      "Epoch [19/30], Train Loss: 1.7414, Train Metric: 0.7288, Val Loss: 1.7368, Val Metric: 0.7322\n",
      "Epoch [20/30], Train Loss: 1.7395, Train Metric: 0.7303, Val Loss: 1.7354, Val Metric: 0.7332\n",
      "Epoch [21/30], Train Loss: 1.7378, Train Metric: 0.7317, Val Loss: 1.7337, Val Metric: 0.7342\n",
      "Epoch [22/30], Train Loss: 1.7365, Train Metric: 0.7322, Val Loss: 1.7325, Val Metric: 0.7344\n",
      "Epoch [23/30], Train Loss: 1.7350, Train Metric: 0.7333, Val Loss: 1.7309, Val Metric: 0.7367\n",
      "Epoch [24/30], Train Loss: 1.7335, Train Metric: 0.7348, Val Loss: 1.7299, Val Metric: 0.7362\n",
      "Epoch [25/30], Train Loss: 1.7327, Train Metric: 0.7350, Val Loss: 1.7290, Val Metric: 0.7379\n",
      "Epoch [26/30], Train Loss: 1.7316, Train Metric: 0.7358, Val Loss: 1.7277, Val Metric: 0.7375\n",
      "Epoch [27/30], Train Loss: 1.7307, Train Metric: 0.7367, Val Loss: 1.7270, Val Metric: 0.7395\n",
      "Epoch [28/30], Train Loss: 1.7299, Train Metric: 0.7368, Val Loss: 1.7260, Val Metric: 0.7399\n",
      "Epoch [29/30], Train Loss: 1.7290, Train Metric: 0.7379, Val Loss: 1.7255, Val Metric: 0.7395\n",
      "Epoch [30/30], Train Loss: 1.7280, Train Metric: 0.7385, Val Loss: 1.7256, Val Metric: 0.7397\n"
     ]
    }
   ],
   "source": [
    "# Here we train the model and then return the training history and trained model\n",
    "history, model = train_and_validate(train_loader, valid_loader, model,\n",
    "                                    optimizer=optimizer, criterion=criterion,\n",
    "                                    num_epochs=30, metric=accuracy_metric)"
   ]
  },
  {
   "cell_type": "code",
   "execution_count": 33,
   "metadata": {
    "id": "F73axjgFLkI_"
   },
   "outputs": [
    {
     "name": "stdout",
     "output_type": "stream",
     "text": [
      "dict_keys(['epoch', 'train_loss', 'train_metric', 'val_loss', 'val_metric'])\n"
     ]
    }
   ],
   "source": [
    "print(history.keys())"
   ]
  },
  {
   "cell_type": "code",
   "execution_count": 34,
   "metadata": {
    "id": "FdaUfmYb96np"
   },
   "outputs": [
    {
     "name": "stdout",
     "output_type": "stream",
     "text": [
      "[0, 1, 2, 3, 4, 5, 6, 7, 8, 9, 10, 11, 12, 13, 14, 15, 16, 17, 18, 19, 20, 21, 22, 23, 24, 25, 26, 27, 28, 29]\n",
      "[2.299255058654519, 2.2869283870209096, 2.2372208376263463, 2.0716041078401166, 1.9372690988141437, 1.8711756697920865, 1.8430517328339955, 1.8256647211174633, 1.8089991272881973, 1.792539591567461, 1.7795232388862343, 1.7696894782920216, 1.7623342311659524, 1.7568693723789481, 1.7523379493591398, 1.748842903763749, 1.7459881710451703, 1.743464785121208, 1.7413741420867832, 1.7394759524700254, 1.737750050494837, 1.736476990788482, 1.7349649969921557, 1.7335443243037822, 1.7326617078725681, 1.7315940995549046, 1.730674726879874, 1.7298961448114971, 1.7290001945440159, 1.7280236088952352]\n",
      "[0.22444888565891472, 0.35635901162790695, 0.3208030523255814, 0.4775012112403101, 0.5767139050387596, 0.6273013565891472, 0.6333333333333333, 0.6539244186046511, 0.6837148740310077, 0.7006359011627907, 0.7091388081395349, 0.7141593992248062, 0.7173146802325582, 0.719858284883721, 0.7225835755813953, 0.7247274709302326, 0.7262294089147286, 0.7281371124031008, 0.7288214631782947, 0.7302749515503877, 0.7317163275193798, 0.7321765988372093, 0.7332788275193798, 0.734780765503876, 0.7350351259689923, 0.7357558139534883, 0.7367005813953489, 0.736827761627907, 0.7379118217054264, 0.7384871608527133]\n",
      "[2.2947070809859262, 2.2751971498320374, 2.1675050560432143, 1.9794314209418962, 1.8898634714416311, 1.849251704879954, 1.8293822732152818, 1.813912657242787, 1.796499572222746, 1.7817879175838036, 1.7697929204264773, 1.7624954332279255, 1.7555577272101293, 1.7527405129203313, 1.746916846383976, 1.7432864391351048, 1.7412383843071852, 1.7387818430043473, 1.7368180872518806, 1.7353932057754904, 1.7337237430524222, 1.7324976966350893, 1.7308908625494075, 1.729921423936192, 1.728972610039047, 1.7277341070054453, 1.726969583125054, 1.7260499815397625, 1.7255128320259383, 1.7255793357197242]\n",
      "[0.34770569620253167, 0.3530458860759494, 0.34117879746835444, 0.5486550632911392, 0.6285601265822784, 0.6325158227848101, 0.6422072784810127, 0.6746439873417721, 0.6997626582278481, 0.7090585443037974, 0.7149920886075949, 0.7173655063291139, 0.7205300632911392, 0.7213212025316456, 0.7266613924050633, 0.7274525316455697, 0.7288370253164557, 0.7308148734177216, 0.7321993670886076, 0.7331882911392406, 0.7341772151898734, 0.734375, 0.736748417721519, 0.7361550632911392, 0.7379351265822784, 0.7375395569620253, 0.7395174050632911, 0.7399129746835443, 0.7395174050632911, 0.7397151898734177]\n"
     ]
    }
   ],
   "source": [
    "print(history['epoch'])\n",
    "print(history['train_loss'])\n",
    "print(history['train_metric'])\n",
    "print(history['val_loss'])\n",
    "print(history['val_metric'])"
   ]
  },
  {
   "cell_type": "markdown",
   "metadata": {
    "id": "ht9uxLpwhpcR"
   },
   "source": [
    "Let's visualize the learning curves for this model training."
   ]
  },
  {
   "cell_type": "code",
   "execution_count": 35,
   "metadata": {
    "id": "CCv_GPMi96np"
   },
   "outputs": [
    {
     "data": {
      "image/png": "[encoded data removed]",
      "text/plain": [
       "<Figure size 800x500 with 1 Axes>"
      ]
     },
     "metadata": {},
     "output_type": "display_data"
    }
   ],
   "source": [
    "import pandas as pd\n",
    "\n",
    "losses = pd.DataFrame({\n",
    "    'Train Loss': history['train_loss'],\n",
    "    'Validation Loss': history['val_loss']\n",
    "})\n",
    "\n",
    "# Plotting\n",
    "losses.plot(figsize=(8, 5))\n",
    "plt.grid(True)\n",
    "plt.title(\"Training and Validation Losses\")\n",
    "plt.gca().set_ylim(1.5, 2.5)  # Adjust the y-axis limits if needed\n",
    "plt.xlabel(\"Epochs\")\n",
    "plt.ylabel(\"Loss\")\n",
    "plt.show()"
   ]
  },
  {
   "cell_type": "code",
   "execution_count": 36,
   "metadata": {
    "id": "24ys_9GoNaiO"
   },
   "outputs": [
    {
     "data": {
      "image/png": "[encoded data removed]",
      "text/plain": [
       "<Figure size 800x500 with 1 Axes>"
      ]
     },
     "metadata": {},
     "output_type": "display_data"
    }
   ],
   "source": [
    "accuracies = pd.DataFrame({\n",
    "    'Train Accuracy': history['train_metric'],\n",
    "    'Validation Accuracy': history['val_metric']\n",
    "})\n",
    "\n",
    "# Plotting\n",
    "accuracies.plot(figsize=(8, 5))\n",
    "plt.grid(True)\n",
    "plt.title(\"Training and Validation Accuracies\")\n",
    "plt.gca().set_ylim(0, 1)  # Adjust the y-axis limits if needed\n",
    "plt.xlabel(\"Epochs\")\n",
    "plt.ylabel(\"Accuracy\")\n",
    "plt.show()"
   ]
  },
  {
   "cell_type": "markdown",
   "metadata": {
    "id": "YfayrKJ8EVEi"
   },
   "source": [
    "## Testing loop\n",
    "We also need to create a testing loop if we want to check the performance of <br>\n",
    "our model after we train it. Notice a few key things:\n",
    "1. We put the model into evaluation mode instead of training mode\n",
    "2. We run the model without computing any gradients\n",
    "3. There is no more optimizer needed\n",
    "\n",
    "We also did this with the validation portion of `train_and_validate` loop."
   ]
  },
  {
   "cell_type": "code",
   "execution_count": 37,
   "metadata": {
    "id": "KXKJG4XMEUOv"
   },
   "outputs": [],
   "source": [
    "def test_model(model, data_loader, criterion, metric):\n",
    "    model.eval()  # Set the model to evaluation mode\n",
    "\n",
    "    total_loss = 0.0  # Initialize the total loss and metric values\n",
    "    total_metric = 0.0\n",
    "\n",
    "    with torch.no_grad():  # Disable gradient tracking\n",
    "        for batch in data_loader:\n",
    "            X, y = batch\n",
    "\n",
    "            # Pass the data to the model and make predictions\n",
    "            outputs = model(X)\n",
    "\n",
    "            # Compute the loss\n",
    "            loss = criterion(outputs, y)\n",
    "\n",
    "            # Add the loss and metric for the batch to the total values\n",
    "            total_loss += loss.item()\n",
    "            total_metric += metric(outputs, y)\n",
    "\n",
    "    # Average loss and metric for the entire dataset\n",
    "    avg_loss = total_loss / len(data_loader)\n",
    "    avg_metric = total_metric / len(data_loader)\n",
    "\n",
    "    print(f'Test Loss: {avg_loss:.4f}, Test Metric: {avg_metric:.4f}')\n",
    "\n",
    "    return avg_loss, avg_metric"
   ]
  },
  {
   "cell_type": "markdown",
   "metadata": {
    "id": "p2WdGqAlC0bm"
   },
   "source": [
    "### Task 4\n",
    " Validate your model using `test_model` using the test dataloader `test_loader`."
   ]
  },
  {
   "cell_type": "markdown",
   "metadata": {
    "id": "dYn6hY0XHNDf"
   },
   "source": [
    "↓↓↓↓↓↓↓↓↓↓↓↓↓↓↓↓↓↓↓↓↓↓↓↓↓↓↓↓↓↓↓ your code goes below"
   ]
  },
  {
   "cell_type": "code",
   "execution_count": 38,
   "metadata": {
    "id": "ZfC_sLA_96nq"
   },
   "outputs": [
    {
     "name": "stdout",
     "output_type": "stream",
     "text": [
      "Test Loss: 1.7316, Test Metric: 0.7344\n"
     ]
    },
    {
     "data": {
      "text/plain": [
       "(1.7316057013857895, 0.734375)"
      ]
     },
     "execution_count": 38,
     "metadata": {},
     "output_type": "execute_result"
    }
   ],
   "source": [
    "# evaluate model on  test set\n",
    "test_model(model, test_loader, criterion=criterion, metric=accuracy_metric)"
   ]
  },
  {
   "cell_type": "markdown",
   "metadata": {
    "id": "VPp1YYCOHNDg"
   },
   "source": [
    "↑↑↑↑↑↑↑↑↑↑↑↑↑↑↑↑↑↑↑↑↑↑↑↑↑↑↑↑↑↑↑ your code goes above"
   ]
  },
  {
   "cell_type": "markdown",
   "metadata": {
    "id": "zM8ssoN0FjYS"
   },
   "source": [
    "### Task 5\n",
    "Select the first three samples from the test dataset not the dataloader and\n",
    "<br>\n",
    "predict their corresponding classes using: <br>\n",
    "**`prediction = model(torch.from_numpy(X_new).float())`**. Then print the <br>\n",
    "names/ categories of the elements in  question (Eg. \"Pants\", \"trouser\")\n",
    "\n",
    "You'll need to use **`prediction.detach().numpy()`** to get the outputs in a nice <br>\n",
    "numpy format. **Pay attention to the above steps to avoid data type errors.**\n",
    "\n",
    "Also, use `np.argmax(prediction, axis=-1)` on the one-hot-encoded predicitons <br>\n",
    "to get the classes numbers."
   ]
  },
  {
   "cell_type": "code",
   "execution_count": 39,
   "metadata": {
    "id": "7C0en5Jk96nq"
   },
   "outputs": [],
   "source": [
    "X_new = X_test[:3]"
   ]
  },
  {
   "cell_type": "markdown",
   "metadata": {
    "id": "NMl_pVJMHNDg"
   },
   "source": [
    "↓↓↓↓↓↓↓↓↓↓↓↓↓↓↓↓↓↓↓↓↓↓↓↓↓↓↓↓↓↓↓ your code goes below"
   ]
  },
  {
   "cell_type": "code",
   "execution_count": 40,
   "metadata": {
    "id": "-WoScu8CHNDg"
   },
   "outputs": [],
   "source": [
    "prediction = model(torch.from_numpy(X_new).float()).detach().numpy()\n",
    "types = np.argmax(prediction, axis=-1)"
   ]
  },
  {
   "cell_type": "code",
   "execution_count": 41,
   "metadata": {},
   "outputs": [
    {
     "name": "stdout",
     "output_type": "stream",
     "text": [
      "Ankle boot\n",
      "Pullover\n",
      "Trouser\n"
     ]
    }
   ],
   "source": [
    "for i in types:\n",
    "    print(class_names[i])"
   ]
  },
  {
   "cell_type": "markdown",
   "metadata": {
    "id": "arO65xXFHNDg"
   },
   "source": [
    "↑↑↑↑↑↑↑↑↑↑↑↑↑↑↑↑↑↑↑↑↑↑↑↑↑↑↑↑↑↑↑ your code goes above"
   ]
  },
  {
   "cell_type": "code",
   "execution_count": 42,
   "metadata": {
    "id": "pNkCYEEIHNDg"
   },
   "outputs": [
    {
     "data": {
      "text/plain": [
       "array([9, 2, 1], dtype=uint8)"
      ]
     },
     "execution_count": 42,
     "metadata": {},
     "output_type": "execute_result"
    }
   ],
   "source": [
    "y_test[0:3]"
   ]
  },
  {
   "cell_type": "code",
   "execution_count": 43,
   "metadata": {
    "id": "MloueY3o96nr"
   },
   "outputs": [
    {
     "data": {
      "image/png": "[encoded data removed]",
      "text/plain": [
       "<Figure size 720x240 with 3 Axes>"
      ]
     },
     "metadata": {},
     "output_type": "display_data"
    }
   ],
   "source": [
    "plt.figure(figsize=(7.2, 2.4))\n",
    "for index, image in enumerate(X_new):\n",
    "    plt.subplot(1, 3, index + 1)\n",
    "    plt.imshow(image, cmap=\"binary\", interpolation=\"nearest\")\n",
    "    plt.axis('off')\n",
    "    plt.title(class_names[y_test[index]], fontsize=12)\n",
    "plt.subplots_adjust(wspace=0.2, hspace=0.5)\n",
    "plt.show()"
   ]
  },
  {
   "cell_type": "markdown",
   "metadata": {
    "id": "wdQPEnaa96nr"
   },
   "source": [
    "# Regression MLP\n",
    "\n",
    "We can also build multi-layer perceptrons for regression. The difference here <br>\n",
    "is that we remove features like softmax that are specific to multi-class <br>\n",
    "classification and instead end with an appropriately sized linear layer and <br>\n",
    "use mean-squared-error as our loss function instead of cross-entropy loss."
   ]
  },
  {
   "cell_type": "markdown",
   "metadata": {
    "id": "qMxzRNLS96ns"
   },
   "source": [
    "Let's load, split and scale the [California housing dataset](https://scikit-learn.org/stable/modules/generated/sklearn.datasets.fetch_california_housing.html)."
   ]
  },
  {
   "cell_type": "code",
   "execution_count": 116,
   "metadata": {
    "id": "ZJ3bFpfU96ns"
   },
   "outputs": [],
   "source": [
    "from sklearn.datasets import fetch_california_housing\n",
    "from sklearn.model_selection import train_test_split\n",
    "from sklearn.preprocessing import StandardScaler\n",
    "\n",
    "housing = fetch_california_housing()\n",
    "\n",
    "X_train_full, X_test, y_train_full, y_test = train_test_split(housing.data, housing.target, random_state=42)\n",
    "X_train, X_valid, y_train, y_valid = train_test_split(X_train_full, y_train_full, random_state=42)"
   ]
  },
  {
   "cell_type": "markdown",
   "metadata": {
    "id": "wJiLPiB5Gzht"
   },
   "source": [
    "### Task 6\n",
    " Scale your training, validation, and test feature matrices using scikit-learn's <br>\n",
    "[StandardScaler](https://scikit-learn.org/stable/modules/generated/sklearn.preprocessing.StandardScaler.html). Best practice is to fit your scaler to either the full dataset <br>\n",
    "or a large subset e.g. X_train and scale all samples using the same means and <br>\n",
    "standard deviations. It is critical that you **use the same mean and standard**<br>\n",
    "**deviation for all data**. This standard scaler is implementing <br> standardization also sometimes referred to as standard normalization."
   ]
  },
  {
   "cell_type": "markdown",
   "metadata": {
    "id": "AWwom68-HNDh"
   },
   "source": [
    "↓↓↓↓↓↓↓↓↓↓↓↓↓↓↓↓↓↓↓↓↓↓↓↓↓↓↓↓↓↓↓ your code goes below"
   ]
  },
  {
   "cell_type": "code",
   "execution_count": 117,
   "metadata": {
    "id": "O0ehUJYh7Dcw"
   },
   "outputs": [],
   "source": [
    "scaler = StandardScaler()\n",
    "scaler = scaler.fit(X_train)\n",
    "X_train = scaler.transform(X_train)\n",
    "X_valid = scaler.transform(X_valid)\n",
    "X_test = scaler.transform(X_test)"
   ]
  },
  {
   "cell_type": "markdown",
   "metadata": {
    "id": "2Z4Q-GaqHNDh"
   },
   "source": [
    "↑↑↑↑↑↑↑↑↑↑↑↑↑↑↑↑↑↑↑↑↑↑↑↑↑↑↑↑↑↑↑ your code goes above"
   ]
  },
  {
   "cell_type": "markdown",
   "metadata": {
    "id": "Yyn_HypzGEBb"
   },
   "source": [
    "###Task 7\n",
    "\n",
    "Create a dataloader for the [California housing dataset](https://scikit-learn.org/stable/modules/generated/sklearn.datasets.fetch_california_housing.html).\n",
    "\n",
    "Be sure to use appropriate data types for the inputs (X) and outputs (y).\n",
    "\n",
    "**Read the [documentation](https://scikit-learn.org/stable/modules/generated/sklearn.datasets.fetch_california_housing.html) for this dataset. If you use the wrong data type** <br>\n",
    "**in your \\_\\_getitem\\_\\_ function then the code will not work properly.**\n",
    "\n",
    "You must include the functions `__init__`, `__len__`, and `__getitem__`. <br> Then, create your data sets and data loaders with `batch_size=64`."
   ]
  },
  {
   "cell_type": "markdown",
   "metadata": {
    "id": "kSSKLTxmOsMT"
   },
   "source": [
    "####Task 7 Question:\n",
    "\n",
    "What are the appropriate data types for the inputs X and outputs y according <br>\n",
    "to the California housing dataset documentation?"
   ]
  },
  {
   "cell_type": "markdown",
   "metadata": {
    "id": "lKkRi_z3OnkP"
   },
   "source": [
    "↓↓↓↓↓↓↓↓↓↓↓↓↓↓↓↓↓↓↓↓↓↓↓↓↓↓↓↓↓↓↓ your code goes below"
   ]
  },
  {
   "cell_type": "markdown",
   "metadata": {
    "id": "pdPobWyWOoZN"
   },
   "source": [
    "Answer:"
   ]
  },
  {
   "cell_type": "code",
   "execution_count": 140,
   "metadata": {},
   "outputs": [
    {
     "name": "stdout",
     "output_type": "stream",
     "text": [
      "float64\n",
      "float64\n"
     ]
    }
   ],
   "source": [
    "print(housing.data.dtype)\n",
    "print(housing.target.dtype)"
   ]
  },
  {
   "cell_type": "code",
   "execution_count": 141,
   "metadata": {
    "id": "Guun0gb3GDJf"
   },
   "outputs": [],
   "source": [
    "class CaliHousingDataset(Dataset):\n",
    "    def __init__(self, features, targets):\n",
    "        self.X = torch.from_numpy(features.copy()).float()\n",
    "        self.y =  torch.from_numpy(targets.copy()).float()\n",
    "\n",
    "    def __len__(self):\n",
    "        return len(self.X)\n",
    "\n",
    "    def __getitem__(self, idx):\n",
    "        return self.X[idx], self.y[idx]"
   ]
  },
  {
   "cell_type": "code",
   "execution_count": 142,
   "metadata": {
    "id": "-cQZeWScL6VI"
   },
   "outputs": [],
   "source": [
    "train_data = CaliHousingDataset(X_train, y_train)\n",
    "test_data = CaliHousingDataset(X_test, y_test)\n",
    "valid_data = CaliHousingDataset(X_valid, y_valid)\n",
    "\n",
    "                                \n",
    "train_loader = DataLoader(train_data, batch_size=64, shuffle=True)\n",
    "test_loader = DataLoader(test_data, batch_size=64, shuffle=False)\n",
    "valid_loader = DataLoader(valid_data, batch_size=64, shuffle=False)"
   ]
  },
  {
   "cell_type": "code",
   "execution_count": 143,
   "metadata": {
    "id": "tv60cUzR96ns"
   },
   "outputs": [
    {
     "data": {
      "text/plain": [
       "<torch._C.Generator at 0x136014d50>"
      ]
     },
     "execution_count": 143,
     "metadata": {},
     "output_type": "execute_result"
    }
   ],
   "source": [
    "np.random.seed(42)\n",
    "torch.manual_seed(42)"
   ]
  },
  {
   "cell_type": "markdown",
   "metadata": {
    "id": "fSwkL-g9OnkX"
   },
   "source": [
    "↑↑↑↑↑↑↑↑↑↑↑↑↑↑↑↑↑↑↑↑↑↑↑↑↑↑↑↑↑↑↑ your code goes above"
   ]
  },
  {
   "cell_type": "markdown",
   "metadata": {
    "id": "1NgYV0XyIlfr"
   },
   "source": [
    "### Task 8\n",
    "This is a Neural Network with one hidden layer with 30 neurons. The output\n",
    "<br>\n",
    "layer has one neuron, which is the regression value. **Create a** <br> **train_and_validate loop for this model. Build the model, and train it using** <br>\n",
    "**the SGD optimizer with a learning rate of 1e-2 for 30 epochs.**\n",
    "\n",
    "This task is similar to task 5 except that we now do **regression, NOT** <br> **classification**. There will be some changes like no longer passing an accuracy <br>\n",
    "metric since that's not a regression metric. We'll also remove the softmax <br>\n",
    "which is used for multi-class classification. Finally, we'll need to use an <br>\n",
    "[appropriate loss function](https://pytorch.org/docs/stable/generated/torch.nn.MSELoss.html).\n",
    "\n",
    "Read through the [California housing dataset](https://scikit-learn.org/stable/modules/generated/sklearn.datasets.fetch_california_housing.html) documentation to determine the <br>\n",
    "correct number of features and classes for the model."
   ]
  },
  {
   "cell_type": "markdown",
   "metadata": {
    "id": "M37QSQ8jHNDi"
   },
   "source": [
    "↓↓↓↓↓↓↓↓↓↓↓↓↓↓↓↓↓↓↓↓↓↓↓↓↓↓↓↓↓↓↓ your code goes below"
   ]
  },
  {
   "cell_type": "code",
   "execution_count": 148,
   "metadata": {},
   "outputs": [],
   "source": [
    "model1 = nn.Sequential(\n",
    "    nn.Linear(8, 30),\n",
    "    nn.ReLU(),\n",
    "    nn.Linear(30, 1),\n",
    ")"
   ]
  },
  {
   "cell_type": "code",
   "execution_count": 149,
   "metadata": {
    "id": "wj5v_bRU96ns"
   },
   "outputs": [
    {
     "name": "stdout",
     "output_type": "stream",
     "text": [
      "Epoch [1/60], Train Loss: 3.4951, Val Loss: 5.5081\n",
      "Epoch [2/60], Train Loss: 1.3898, Val Loss: 4.5708\n",
      "Epoch [3/60], Train Loss: 0.8940, Val Loss: 2.7654\n",
      "Epoch [4/60], Train Loss: 0.7286, Val Loss: 1.6487\n",
      "Epoch [5/60], Train Loss: 0.6611, Val Loss: 1.0868\n",
      "Epoch [6/60], Train Loss: 0.6281, Val Loss: 0.8024\n",
      "Epoch [7/60], Train Loss: 0.6070, Val Loss: 0.6656\n",
      "Epoch [8/60], Train Loss: 0.5936, Val Loss: 0.5917\n",
      "Epoch [9/60], Train Loss: 0.5828, Val Loss: 0.5587\n",
      "Epoch [10/60], Train Loss: 0.5715, Val Loss: 0.5385\n",
      "Epoch [11/60], Train Loss: 0.5648, Val Loss: 0.5265\n",
      "Epoch [12/60], Train Loss: 0.5556, Val Loss: 0.5193\n",
      "Epoch [13/60], Train Loss: 0.5477, Val Loss: 0.5136\n",
      "Epoch [14/60], Train Loss: 0.5408, Val Loss: 0.5076\n",
      "Epoch [15/60], Train Loss: 0.5360, Val Loss: 0.5027\n",
      "Epoch [16/60], Train Loss: 0.5291, Val Loss: 0.4977\n",
      "Epoch [17/60], Train Loss: 0.5236, Val Loss: 0.4924\n",
      "Epoch [18/60], Train Loss: 0.5187, Val Loss: 0.4890\n",
      "Epoch [19/60], Train Loss: 0.5142, Val Loss: 0.4844\n",
      "Epoch [20/60], Train Loss: 0.5099, Val Loss: 0.4796\n",
      "Epoch [21/60], Train Loss: 0.5052, Val Loss: 0.4743\n",
      "Epoch [22/60], Train Loss: 0.5005, Val Loss: 0.4686\n",
      "Epoch [23/60], Train Loss: 0.4972, Val Loss: 0.4632\n",
      "Epoch [24/60], Train Loss: 0.4942, Val Loss: 0.4594\n",
      "Epoch [25/60], Train Loss: 0.4903, Val Loss: 0.4555\n",
      "Epoch [26/60], Train Loss: 0.4876, Val Loss: 0.4519\n",
      "Epoch [27/60], Train Loss: 0.4838, Val Loss: 0.4482\n",
      "Epoch [28/60], Train Loss: 0.4817, Val Loss: 0.4456\n",
      "Epoch [29/60], Train Loss: 0.4795, Val Loss: 0.4421\n",
      "Epoch [30/60], Train Loss: 0.4763, Val Loss: 0.4398\n",
      "Epoch [31/60], Train Loss: 0.4729, Val Loss: 0.4367\n",
      "Epoch [32/60], Train Loss: 0.4713, Val Loss: 0.4345\n",
      "Epoch [33/60], Train Loss: 0.4685, Val Loss: 0.4323\n",
      "Epoch [34/60], Train Loss: 0.4675, Val Loss: 0.4302\n",
      "Epoch [35/60], Train Loss: 0.4639, Val Loss: 0.4283\n",
      "Epoch [36/60], Train Loss: 0.4636, Val Loss: 0.4272\n",
      "Epoch [37/60], Train Loss: 0.4606, Val Loss: 0.4259\n",
      "Epoch [38/60], Train Loss: 0.4595, Val Loss: 0.4251\n",
      "Epoch [39/60], Train Loss: 0.4587, Val Loss: 0.4241\n",
      "Epoch [40/60], Train Loss: 0.4558, Val Loss: 0.4240\n",
      "Epoch [41/60], Train Loss: 0.4546, Val Loss: 0.4232\n",
      "Epoch [42/60], Train Loss: 0.4534, Val Loss: 0.4212\n",
      "Epoch [43/60], Train Loss: 0.4519, Val Loss: 0.4233\n",
      "Epoch [44/60], Train Loss: 0.4510, Val Loss: 0.4235\n",
      "Epoch [45/60], Train Loss: 0.4558, Val Loss: 0.4211\n",
      "Epoch [46/60], Train Loss: 0.4482, Val Loss: 0.4221\n",
      "Epoch [47/60], Train Loss: 0.4461, Val Loss: 0.4230\n",
      "Epoch [48/60], Train Loss: 0.4458, Val Loss: 0.4216\n",
      "Epoch [49/60], Train Loss: 0.4442, Val Loss: 0.4227\n",
      "Epoch [50/60], Train Loss: 0.4435, Val Loss: 0.4225\n",
      "Epoch [51/60], Train Loss: 0.4424, Val Loss: 0.4231\n",
      "Epoch [52/60], Train Loss: 0.4410, Val Loss: 0.4218\n",
      "Epoch [53/60], Train Loss: 0.4402, Val Loss: 0.4234\n",
      "Epoch [54/60], Train Loss: 0.4389, Val Loss: 0.4241\n",
      "Epoch [55/60], Train Loss: 0.4391, Val Loss: 0.4253\n",
      "Epoch [56/60], Train Loss: 0.4392, Val Loss: 0.4230\n",
      "Epoch [57/60], Train Loss: 0.4361, Val Loss: 0.4241\n",
      "Epoch [58/60], Train Loss: 0.4357, Val Loss: 0.4239\n",
      "Epoch [59/60], Train Loss: 0.4351, Val Loss: 0.4249\n",
      "Epoch [60/60], Train Loss: 0.4346, Val Loss: 0.4245\n"
     ]
    }
   ],
   "source": [
    "criterion = torch.nn.MSELoss() # This is a loss function/criterion\n",
    "optimizer = torch.optim.SGD(model1.parameters(), lr=1e-3) # This updates model weights\n",
    "\n",
    "\n",
    "# Note: No metric needed and remember to change the loss function\n",
    "def train_and_validate(train_loader, val_loader, model, optimizer, criterion, num_epochs, metric=None):\n",
    "    history = {\n",
    "        \"epoch\" : [],\n",
    "        \"train_loss\" : [],\n",
    "        \"val_loss\" : []\n",
    "    }\n",
    "\n",
    "    for epoch in range(num_epochs):\n",
    "        model.train()\n",
    "        epoch_loss = 0.0\n",
    "\n",
    "        for X, y in train_loader:\n",
    "            optimizer.zero_grad()\n",
    "            outputs = model(X)\n",
    "\n",
    "            loss = criterion(outputs.squeeze(-1), y)\n",
    "\n",
    "            loss.backward()\n",
    "            optimizer.step()\n",
    "\n",
    "            epoch_loss += loss.item()\n",
    "\n",
    "        epoch_loss /= len(train_loader)\n",
    "\n",
    "        model.eval()\n",
    "        with torch.no_grad():\n",
    "            val_loss = 0.0\n",
    "            for X_val, y_val in val_loader:\n",
    "                outputs_val = model(X_val)\n",
    "\n",
    "                val_loss += criterion(outputs_val.squeeze(-1), y_val).item()\n",
    "\n",
    "            val_loss /= len(val_loader)\n",
    "\n",
    "        history['epoch'].append(epoch)\n",
    "        history['train_loss'].append(epoch_loss)\n",
    "        history['val_loss'].append(val_loss)\n",
    "\n",
    "        print(f'Epoch [{epoch+1}/{num_epochs}], Train Loss: {epoch_loss:.4f}, Val Loss: {val_loss:.4f}')\n",
    "\n",
    "    return history, model\n",
    "\n",
    "# Here we train the model and then return the training history and trained model\n",
    "history, model = train_and_validate(train_loader, valid_loader, model1, optimizer=optimizer, criterion=criterion, num_epochs=60)"
   ]
  },
  {
   "cell_type": "markdown",
   "metadata": {
    "id": "VoSs90vjHNDj"
   },
   "source": [
    "↑↑↑↑↑↑↑↑↑↑↑↑↑↑↑↑↑↑↑↑↑↑↑↑↑↑↑↑↑↑↑ your code goes above"
   ]
  },
  {
   "cell_type": "code",
   "execution_count": 150,
   "metadata": {
    "id": "5G8ujXkmHNDj"
   },
   "outputs": [
    {
     "data": {
      "image/png": "[encoded data removed]",
      "text/plain": [
       "<Figure size 800x500 with 1 Axes>"
      ]
     },
     "metadata": {},
     "output_type": "display_data"
    }
   ],
   "source": [
    "losses = pd.DataFrame({\n",
    "    'Train Loss': history['train_loss'],\n",
    "    'Validation Loss': history['val_loss']\n",
    "})\n",
    "\n",
    "# Plotting\n",
    "losses.plot(figsize=(8, 5))\n",
    "plt.grid(True)\n",
    "plt.title(\"Training and Validation Losses\")\n",
    "# plt.gca().set_ylim(1.5, 2.5)  # Adjust the y-axis limits if needed\n",
    "plt.xlabel(\"Epochs\")\n",
    "plt.ylabel(\"Loss\")\n",
    "plt.show()"
   ]
  },
  {
   "cell_type": "markdown",
   "metadata": {
    "id": "bSADjQQDJLgh"
   },
   "source": [
    "### Task 9.1\n",
    "Create a `test_model` function and evalute your model's performance by using <br>\n",
    "it on the test set. Also predict one element of the test set of your choice <br>\n",
    "(`X_test[42]` for example) and compare to the real value. You can look at the <br>\n",
    "validation part of the `test_model` function from before as a reference for <br>\n",
    "how to create a test loop."
   ]
  },
  {
   "cell_type": "markdown",
   "metadata": {
    "id": "gS4iQtpdHNDj"
   },
   "source": [
    "↓↓↓↓↓↓↓↓↓↓↓↓↓↓↓↓↓↓↓↓↓↓↓↓↓↓↓↓↓↓↓ your code goes below"
   ]
  },
  {
   "cell_type": "code",
   "execution_count": 151,
   "metadata": {
    "id": "RHDaFPIMMgqG"
   },
   "outputs": [
    {
     "name": "stdout",
     "output_type": "stream",
     "text": [
      "Test Loss: 0.4281\n"
     ]
    },
    {
     "data": {
      "text/plain": [
       "0.4280572360680427"
      ]
     },
     "execution_count": 151,
     "metadata": {},
     "output_type": "execute_result"
    }
   ],
   "source": [
    "#def test_model(model, data_loader, criterion):\n",
    "\n",
    "def test_model(model, data_loader, criterion):\n",
    "    model.eval()  # Set the model to evaluation mode\n",
    "\n",
    "    total_loss = 0.0  # Initialize the total loss and metric values\n",
    "\n",
    "    with torch.no_grad():  # Disable gradient tracking\n",
    "        for batch in data_loader:\n",
    "            X, y = batch\n",
    "\n",
    "            # Pass the data to the model and make predictions\n",
    "            outputs = model(X)\n",
    "\n",
    "            # Compute the loss\n",
    "            loss = criterion(outputs.squeeze(-1), y)\n",
    "\n",
    "            # Add the loss and metric for the batch to the total values\n",
    "            total_loss += loss.item()\n",
    "\n",
    "    # Average loss and metric for the entire dataset\n",
    "    avg_loss = total_loss / len(data_loader)\n",
    "\n",
    "    print(f'Test Loss: {avg_loss:.4f}')\n",
    "\n",
    "    return avg_loss\n",
    "\n",
    "# evaluate model on  test set\n",
    "test_model(model, test_loader, criterion=criterion)"
   ]
  },
  {
   "cell_type": "code",
   "execution_count": 156,
   "metadata": {
    "id": "N3IL0WlYJCx6"
   },
   "outputs": [
    {
     "name": "stdout",
     "output_type": "stream",
     "text": [
      "[0.9290116]\n",
      "0.713\n"
     ]
    }
   ],
   "source": [
    "#test_prediction =\n",
    "\n",
    "test_prediction = model(torch.from_numpy(X_test[42]).float()).detach().numpy()\n",
    "print(test_prediction)\n",
    "\n",
    "print(y_test[42])"
   ]
  },
  {
   "cell_type": "markdown",
   "metadata": {
    "id": "l7gfM8qzHNDk"
   },
   "source": [
    "↑↑↑↑↑↑↑↑↑↑↑↑↑↑↑↑↑↑↑↑↑↑↑↑↑↑↑↑↑↑↑ your code goes above"
   ]
  },
  {
   "cell_type": "markdown",
   "metadata": {
    "id": "b_YAL3g-96nx"
   },
   "source": [
    "# Saving the model weights for future use\n",
    "\n",
    "Refer to the example on saving files in the course Resources folder on github"
   ]
  },
  {
   "cell_type": "markdown",
   "metadata": {
    "id": "8Wmv0550Jwzk"
   },
   "source": [
    "### Task 9.2\n",
    "\n",
    "Create a new blank model using the same architecture you used from part 8. <br>\n",
    "Load the model weights from your previously trained model from part 8. <br> Finally, compare the predictions of the two models on the same datapoint."
   ]
  },
  {
   "cell_type": "code",
   "execution_count": 157,
   "metadata": {
    "id": "OtirZ6mCJnSO"
   },
   "outputs": [
    {
     "data": {
      "text/plain": [
       "tensor([[0.9290]], grad_fn=<AddmmBackward0>)"
      ]
     },
     "execution_count": 157,
     "metadata": {},
     "output_type": "execute_result"
    }
   ],
   "source": [
    "model(torch.from_numpy(X_test[42:43].copy()).float())"
   ]
  },
  {
   "cell_type": "code",
   "execution_count": 158,
   "metadata": {
    "id": "CIMTsRwT96ny"
   },
   "outputs": [],
   "source": [
    "torch.save(model.state_dict(), \"my_pytorch_model\")"
   ]
  },
  {
   "cell_type": "code",
   "execution_count": 161,
   "metadata": {
    "id": "3SWQfT1ZVVB0"
   },
   "outputs": [],
   "source": [
    "model_reloaded = nn.Sequential(\n",
    "    nn.Linear(8, 30),\n",
    "    nn.ReLU(),\n",
    "    nn.Linear(30, 1),\n",
    ")"
   ]
  },
  {
   "cell_type": "code",
   "execution_count": 162,
   "metadata": {
    "id": "BrgCYxY596ny"
   },
   "outputs": [
    {
     "data": {
      "text/plain": [
       "<All keys matched successfully>"
      ]
     },
     "execution_count": 162,
     "metadata": {},
     "output_type": "execute_result"
    }
   ],
   "source": [
    "model_reloaded.load_state_dict(torch.load(\"my_pytorch_model\"))"
   ]
  },
  {
   "cell_type": "code",
   "execution_count": 163,
   "metadata": {
    "id": "XeUU8hqO96ny"
   },
   "outputs": [
    {
     "data": {
      "text/plain": [
       "tensor([[0.9290]], grad_fn=<AddmmBackward0>)"
      ]
     },
     "execution_count": 163,
     "metadata": {},
     "output_type": "execute_result"
    }
   ],
   "source": [
    "model_reloaded(torch.from_numpy(X_test[42:43].copy()).float())"
   ]
  },
  {
   "cell_type": "markdown",
   "metadata": {
    "id": "WRm8G8snKjtI"
   },
   "source": [
    "Are these the same prediction?"
   ]
  },
  {
   "cell_type": "markdown",
   "metadata": {
    "id": "wHkqXnk5K0mu"
   },
   "source": [
    "↓↓↓↓↓↓↓↓↓↓↓↓↓↓↓↓↓↓↓↓↓↓↓↓↓↓↓↓↓↓↓ your answer goes below"
   ]
  },
  {
   "cell_type": "markdown",
   "metadata": {
    "id": "4XCPKJtfK0mv"
   },
   "source": [
    "Task 9.2 answer:"
   ]
  },
  {
   "cell_type": "markdown",
   "metadata": {
    "id": "nMx5tfr8K0mv"
   },
   "source": [
    "↑↑↑↑↑↑↑↑↑↑↑↑↑↑↑↑↑↑↑↑↑↑↑↑↑↑↑↑↑↑↑ your answer goes above"
   ]
  },
  {
   "cell_type": "markdown",
   "metadata": {
    "id": "ptw8V26_HeXo"
   },
   "source": [
    "# Model Layer Naming\n",
    "\n",
    "For particularly large models or new architectures, it can be helpful to name <br>\n",
    "model layers or blocks so that you can identify the source of bugs, etc."
   ]
  },
  {
   "cell_type": "code",
   "execution_count": 164,
   "metadata": {
    "id": "3qrpIMH2ITvA"
   },
   "outputs": [],
   "source": [
    "from collections import OrderedDict"
   ]
  },
  {
   "cell_type": "code",
   "execution_count": 165,
   "metadata": {
    "id": "q5Z9S79AHPpK"
   },
   "outputs": [],
   "source": [
    "model_with_layer_naming = torch.nn.Sequential(OrderedDict([\n",
    "          ('simple_linear_layer_1', nn.Linear(10,100)),\n",
    "          ('a_neat_activation_function', nn.ReLU()),\n",
    "        ]))"
   ]
  },
  {
   "cell_type": "code",
   "execution_count": 166,
   "metadata": {
    "id": "II9-ZGUEIePf"
   },
   "outputs": [
    {
     "name": "stdout",
     "output_type": "stream",
     "text": [
      "Sequential(\n",
      "  (simple_linear_layer_1): Linear(in_features=10, out_features=100, bias=True)\n",
      "  (a_neat_activation_function): ReLU()\n",
      ")\n"
     ]
    }
   ],
   "source": [
    "print(model_with_layer_naming)"
   ]
  },
  {
   "cell_type": "code",
   "execution_count": 167,
   "metadata": {
    "id": "daj_e2toIQJw"
   },
   "outputs": [
    {
     "name": "stdout",
     "output_type": "stream",
     "text": [
      "Linear(in_features=10, out_features=100, bias=True)\n"
     ]
    }
   ],
   "source": [
    "print(model_with_layer_naming.simple_linear_layer_1)"
   ]
  },
  {
   "cell_type": "markdown",
   "metadata": {
    "id": "X2TzmQLLHNDm"
   },
   "source": [
    "### Task 10 (Bonus: 3 points)\n",
    " For `X_train[0]` perform the forward pass yourself using matrix <br> multiplications.\n",
    "Remember to include the biases. <br>\n",
    "Check with the prediction of the model that you get exactly the same! <br>\n",
    "\n",
    "Hints:\n",
    "- use `np.dot(x,y)` for matrix multiplication\n",
    "- for the first layer it would look like this:\n",
    "    * matrix mult: `X_new` dot `l1`\n",
    "    * add bias `b1`\n",
    "    * apply `relu(...)`"
   ]
  },
  {
   "cell_type": "code",
   "execution_count": 168,
   "metadata": {
    "id": "CLblus2vA8vd"
   },
   "outputs": [
    {
     "name": "stdout",
     "output_type": "stream",
     "text": [
      "Sequential(\n",
      "  (0): Linear(in_features=8, out_features=30, bias=True)\n",
      "  (1): ReLU()\n",
      "  (2): Linear(in_features=30, out_features=1, bias=True)\n",
      ")\n"
     ]
    }
   ],
   "source": [
    "print(model)"
   ]
  },
  {
   "cell_type": "code",
   "execution_count": 169,
   "metadata": {
    "id": "MKw_DLg3HNDm"
   },
   "outputs": [],
   "source": [
    "l1 = np.array(model[0].weight.data.numpy()).T\n",
    "b1 = np.array(model[0].bias.data.numpy())\n",
    "l2 = np.array(model[2].weight.data.numpy()).T\n",
    "b2 = np.array(model[2].bias.data.numpy())"
   ]
  },
  {
   "cell_type": "code",
   "execution_count": 170,
   "metadata": {
    "id": "8a9dRAu9HNDm"
   },
   "outputs": [],
   "source": [
    "X_new = X_train[0]"
   ]
  },
  {
   "cell_type": "code",
   "execution_count": 171,
   "metadata": {
    "id": "9n8T3Jp_HNDm"
   },
   "outputs": [
    {
     "data": {
      "text/plain": [
       "(8,)"
      ]
     },
     "execution_count": 171,
     "metadata": {},
     "output_type": "execute_result"
    }
   ],
   "source": [
    "X_new.shape"
   ]
  },
  {
   "cell_type": "code",
   "execution_count": 172,
   "metadata": {
    "id": "azxpa8UJHNDn"
   },
   "outputs": [
    {
     "data": {
      "text/plain": [
       "(8, 30)"
      ]
     },
     "execution_count": 172,
     "metadata": {},
     "output_type": "execute_result"
    }
   ],
   "source": [
    "l1.shape"
   ]
  },
  {
   "cell_type": "code",
   "execution_count": 173,
   "metadata": {
    "id": "7YIy1pfnHNDn"
   },
   "outputs": [
    {
     "data": {
      "text/plain": [
       "(30,)"
      ]
     },
     "execution_count": 173,
     "metadata": {},
     "output_type": "execute_result"
    }
   ],
   "source": [
    "b1.shape"
   ]
  },
  {
   "cell_type": "code",
   "execution_count": 174,
   "metadata": {
    "id": "Va6L70U_HNDn"
   },
   "outputs": [],
   "source": [
    "# This is the entirety of the ReLU function. How cool is that!\n",
    "def relu(z):\n",
    "    return np.maximum(0, z)"
   ]
  },
  {
   "cell_type": "code",
   "execution_count": 175,
   "metadata": {
    "id": "2J5yv18SHNDn"
   },
   "outputs": [
    {
     "data": {
      "text/plain": [
       "tensor([[2.7953]], grad_fn=<AddmmBackward0>)"
      ]
     },
     "execution_count": 175,
     "metadata": {},
     "output_type": "execute_result"
    }
   ],
   "source": [
    "model(torch.from_numpy(X_new).float().unsqueeze(0))   # reproduce this!"
   ]
  },
  {
   "cell_type": "markdown",
   "metadata": {
    "id": "1cFbtYJrHNDn"
   },
   "source": [
    "↓↓↓↓↓↓↓↓↓↓↓↓↓↓↓↓↓↓↓↓↓↓↓↓↓↓↓↓↓↓↓ your code goes below"
   ]
  },
  {
   "cell_type": "code",
   "execution_count": 176,
   "metadata": {
    "id": "XRFSwoyqkCFT"
   },
   "outputs": [
    {
     "name": "stdout",
     "output_type": "stream",
     "text": [
      "[2.79532559]\n"
     ]
    }
   ],
   "source": [
    "x = np.dot(relu(np.dot(X_new, l1) + b1), l2)+b2\n",
    "print(x)"
   ]
  },
  {
   "cell_type": "markdown",
   "metadata": {
    "id": "sPTqjAdiHNDn"
   },
   "source": [
    "↑↑↑↑↑↑↑↑↑↑↑↑↑↑↑↑↑↑↑↑↑↑↑↑↑↑↑↑↑↑↑ your code goes above"
   ]
  }
 ],
 "metadata": {
  "colab": {
   "provenance": []
  },
  "kernelspec": {
   "display_name": "Python 3 (ipykernel)",
   "language": "python",
   "name": "python3"
  },
  "language_info": {
   "codemirror_mode": {
    "name": "ipython",
    "version": 3
   },
   "file_extension": ".py",
   "mimetype": "text/x-python",
   "name": "python",
   "nbconvert_exporter": "python",
   "pygments_lexer": "ipython3",
   "version": "3.9.6"
  },
  "nav_menu": {
   "height": "264px",
   "width": "369px"
  },
  "toc": {
   "navigate_menu": true,
   "number_sections": true,
   "sideBar": true,
   "threshold": 6,
   "toc_cell": false,
   "toc_section_display": "block",
   "toc_window_display": false
  }
 },
 "nbformat": 4,
 "nbformat_minor": 4
}
